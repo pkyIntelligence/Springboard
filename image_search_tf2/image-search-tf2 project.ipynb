{
 "cells": [
  {
   "cell_type": "markdown",
   "metadata": {},
   "source": [
    "### Step 0 Import dependencies"
   ]
  },
  {
   "cell_type": "code",
   "execution_count": 1,
   "metadata": {},
   "outputs": [],
   "source": [
    "import numpy as np\n",
    "import os\n",
    "import cv2\n",
    "import matplotlib.pyplot as plt\n",
    "import pandas as pd\n",
    "import pickle\n",
    "import tensorflow as tf\n",
    "\n",
    "#Allow GPU memory allocation to grow - CUDNN wasn't working otherwise\n",
    "gpu_devices = tf.config.experimental.list_physical_devices('GPU')\n",
    "for device in gpu_devices:\n",
    "    tf.config.experimental.set_memory_growth(device, True)\n",
    "\n",
    "from tqdm import tqdm\n",
    "from scipy.spatial.distance import hamming, cosine, euclidean\n",
    "\n",
    "%matplotlib inline"
   ]
  },
  {
   "cell_type": "markdown",
   "metadata": {},
   "source": [
    "### Step 1 Dataset utils and preprocessing"
   ]
  },
  {
   "cell_type": "code",
   "execution_count": 2,
   "metadata": {},
   "outputs": [],
   "source": [
    "def image_loader(image_path, image_size):\n",
    "    '''\n",
    "    Load an image from a disk.\n",
    "    \n",
    "    :param image_path: String, path to the image\n",
    "    :param image_size: tuple, size of an output image Example: image_size=(32, 32)\n",
    "    '''\n",
    "    \n",
    "    image = cv2.imread(image_path)\n",
    "    image = cv2.cvtColor(image, cv2.COLOR_BGR2RGB)\n",
    "    image = cv2.resize(image, image_size, cv2.INTER_CUBIC)\n",
    "    return image"
   ]
  },
  {
   "cell_type": "code",
   "execution_count": 3,
   "metadata": {},
   "outputs": [],
   "source": [
    "def dataset_preprocessing(dataset_path, labels_file_path, image_size, image_paths_pickle, dtype=None):\n",
    "    '''\n",
    "    Loads images and labels from dataset folder.\n",
    "    \n",
    "    :param dataset_path: String, path to the train/test dataset folder\n",
    "    :param labels_file_path: String, path to the .txt file where classes names are written\n",
    "    :param image_size: tuple, single image size\n",
    "    :param image_paths_pickle: String, name of a pickle file where all image paths will be saved\n",
    "    :param dtype: dtype, allows customization of returned dtype of arrays\n",
    "    '''\n",
    "    \n",
    "    with open(labels_file_path, 'r') as f:\n",
    "        classes = f.read().split('\\n')[:-1]\n",
    "        \n",
    "    \n",
    "    images = []\n",
    "    labels = []\n",
    "    image_paths = []\n",
    "    \n",
    "    for image_name in os.listdir(dataset_path):\n",
    "        try:\n",
    "            image_path = os.path.join(dataset_path, image_name)\n",
    "            images.append(image_loader(image_path, image_size))\n",
    "            image_paths.append(image_path)\n",
    "            for idx in range(len(classes)):\n",
    "                if classes[idx] in image_name: #Example: 0_frog.png\n",
    "                    labels.append(idx)\n",
    "        except:\n",
    "            pass\n",
    "    \n",
    "    with open(image_paths_pickle + \".pickle\", 'wb') as f:\n",
    "        pickle.dump(image_paths, f)\n",
    "    \n",
    "    assert len(images) == len(labels)\n",
    "    return np.array(images, dtype=dtype), np.array(labels, dtype=dtype)"
   ]
  },
  {
   "cell_type": "code",
   "execution_count": 4,
   "metadata": {},
   "outputs": [],
   "source": [
    "images, labels = dataset_preprocessing(\"dataset/train/\", \"dataset/labels.txt\", (32, 32), \"training_images_pickle\", \"float32\")"
   ]
  },
  {
   "cell_type": "code",
   "execution_count": 5,
   "metadata": {},
   "outputs": [
    {
     "data": {
      "text/plain": [
       "(50000, 32, 32, 3)"
      ]
     },
     "execution_count": 5,
     "metadata": {},
     "output_type": "execute_result"
    }
   ],
   "source": [
    "images.shape"
   ]
  },
  {
   "cell_type": "markdown",
   "metadata": {},
   "source": [
    "### Step 2 Utils function"
   ]
  },
  {
   "cell_type": "markdown",
   "metadata": {},
   "source": [
    "![](helper_images/cosine.png)\n",
    "![](helper_images/cosine_formula.png)"
   ]
  },
  {
   "cell_type": "code",
   "execution_count": 6,
   "metadata": {},
   "outputs": [],
   "source": [
    "def cosine_distance(training_set_vectors, query_vector, top_n=50):\n",
    "    '''\n",
    "    Calculates cosine distances between query image (vector) and all training set images (vectors).\n",
    "    \n",
    "    :param training_set_vectors: numpy Matrix, vectors for all images in the training set\n",
    "    :param query_vector: numpy vector, query image (new image) vector\n",
    "    :param top_n: integer, number of closest images to return\n",
    "    '''\n",
    "    \n",
    "    distances = []\n",
    "    \n",
    "    for i in range(len(training_set_vectors)): #For Cifar 10 -> 50k images\n",
    "        distances.append(cosine(training_set_vectors[i], query_vector[0]))\n",
    "        \n",
    "    return np.argsort(distances)[:top_n]"
   ]
  },
  {
   "cell_type": "markdown",
   "metadata": {},
   "source": [
    "![](helper_images/hamming.png)"
   ]
  },
  {
   "cell_type": "code",
   "execution_count": 7,
   "metadata": {},
   "outputs": [],
   "source": [
    "def hamming_distance(training_set_vectors, query_vector, top_n=50):\n",
    "    '''\n",
    "    Calculates hamming distances between query image (vector) and all training set images (vectors).\n",
    "    \n",
    "    :param training_set_vectors: numpy Matrix, vectors for all images in the training set\n",
    "    :param query_vector: numpy vector, query image (new image) vector\n",
    "    :param top_n: Integer, number of closest images to return\n",
    "    '''\n",
    "     \n",
    "    distances = []\n",
    "    \n",
    "    for i in range(len(training_set_vectors)): #For Cifar 10 -> 50k images\n",
    "        distances.append(hamming(training_set_vectors[i], query_vector[0]))\n",
    "        \n",
    "    return np.argsort(distances)[:top_n]   "
   ]
  },
  {
   "cell_type": "code",
   "execution_count": 8,
   "metadata": {},
   "outputs": [],
   "source": [
    "def sparse_accuracy(true_labels, predicted_labels):\n",
    "    '''\n",
    "    Calculates accuracy of a model based on softmax outputs.\n",
    "    \n",
    "    :param true_labels: numpy array, real labels of each sample. Example: [1, 2, 1, 0, 0]\n",
    "    :param predicted_labels: numpy matrix, softmax probabilities. Example [[0.2, 0.1, 0.7], [0.9, 0.05, 0.05]]\n",
    "    '''\n",
    "    \n",
    "    assert len(true_labels) == len(predicted_labels)\n",
    "    \n",
    "    correct = 0\n",
    "    \n",
    "    for i in range(len(true_labels)):\n",
    "        \n",
    "        if np.argmax(predicted_labels[i]) == true_labels[i]:\n",
    "            correct += 1\n",
    "            \n",
    "    return correct / len(true_labels)"
   ]
  },
  {
   "cell_type": "markdown",
   "metadata": {},
   "source": [
    "### Step 3 Model utils"
   ]
  },
  {
   "cell_type": "code",
   "execution_count": 9,
   "metadata": {},
   "outputs": [],
   "source": [
    "class ConvBlock(tf.keras.layers.Layer):\n",
    "    \n",
    "    def __init__(self, number_of_filters, kernel_size, strides=(1, 1),\n",
    "                 padding='SAME', activation=tf.nn.relu,\n",
    "                 max_pool=True, batch_norm=True):\n",
    "        '''\n",
    "        Defines convolutional block layer.\n",
    "\n",
    "        :param number_of_filters: integer, number of conv filters\n",
    "        :param kernel_size: tuple, size of conv layer kernel\n",
    "        :param padding: string, type of padding technique: SAME or VALID\n",
    "        :param activation: tf.object, activation function used on the layer\n",
    "        :param max_pool: boolean, if true the conv block will use max_pool\n",
    "        :param batch_norm: boolean, if true the conv block will use batch normalization\n",
    "        '''\n",
    "        super(ConvBlock, self).__init__()\n",
    "        \n",
    "        self._conv_layer = tf.keras.layers.Conv2D(filters=number_of_filters,\n",
    "                                                  kernel_size=kernel_size,\n",
    "                                                  strides=strides,\n",
    "                                                  padding=padding,\n",
    "                                                  activation=activation)\n",
    "        \n",
    "        self._max_pool = max_pool\n",
    "        if max_pool:\n",
    "            self._mp_layer = tf.keras.layers.MaxPool2D(pool_size=(2, 2),\n",
    "                                                       strides=(2, 2),\n",
    "                                                       padding='SAME')\n",
    "        \n",
    "        self._batch_norm = batch_norm\n",
    "        if batch_norm:\n",
    "            self._bn_layer = tf.keras.layers.BatchNormalization()\n",
    "            \n",
    "            \n",
    "    def call(self, inputs, training):\n",
    "        \n",
    "        conv_features = x = self._conv_layer(inputs)\n",
    "        if self._max_pool:\n",
    "            x = self._mp_layer(x)\n",
    "        if self._batch_norm:\n",
    "            x = self._bn_layer(x, training)\n",
    "        return x, conv_features\n"
   ]
  },
  {
   "cell_type": "code",
   "execution_count": 10,
   "metadata": {},
   "outputs": [],
   "source": [
    "class DenseBlock(tf.keras.layers.Layer):\n",
    "    \n",
    "    def __init__(self, units, activation=tf.nn.relu,\n",
    "                 dropout_rate=None, batch_norm=True):\n",
    "        '''\n",
    "        Defines dense block layer.\n",
    "\n",
    "        :param units: integer, number of neurons/units for a dense layer\n",
    "        :param activation: tf.object, activation function used on the layer\n",
    "        :param dropout_rate: dropout rate used in this dense block\n",
    "        :param batch_norm: boolean, if true the conv block will use batch normalization\n",
    "        '''\n",
    "        super(DenseBlock, self).__init__()\n",
    "        \n",
    "        self._dense_layer = tf.keras.layers.Dense(units, activation=activation)\n",
    "        \n",
    "        self._dropout_rate = dropout_rate\n",
    "        if dropout_rate is not None:\n",
    "            self._dr_layer = tf.keras.layers.Dropout(rate=dropout_rate)\n",
    "        \n",
    "        self._batch_norm = batch_norm\n",
    "        if batch_norm:\n",
    "            self._bn_layer = tf.keras.layers.BatchNormalization()\n",
    "            \n",
    "    \n",
    "    def call(self, inputs, training):\n",
    "        \n",
    "        dense_features = x = self._dense_layer(inputs)\n",
    "        if self._dropout_rate is not None:\n",
    "            x = self._dr_layer(x, training)\n",
    "        if self._batch_norm:\n",
    "            x = self._bn_layer(x, training)\n",
    "        return x, dense_features\n"
   ]
  },
  {
   "cell_type": "markdown",
   "metadata": {},
   "source": [
    "![](helper_images/conv_model.png)\n",
    "Image from: *https://github.com/deep-diver/CIFAR10-img-classification-tensorflow*"
   ]
  },
  {
   "cell_type": "code",
   "execution_count": 11,
   "metadata": {},
   "outputs": [],
   "source": [
    "class ImageSearchModel(tf.keras.Model):\n",
    "    \n",
    "    def __init__(self, dropout_rate, image_size, number_of_classes=10):\n",
    "        '''\n",
    "        Defines CNN model.\n",
    "        \n",
    "        :param dropout_rate: dropout_rate\n",
    "        :param learning_rate: learning_rate\n",
    "        :param image_size: tuple, (height, width) of an image\n",
    "        :param number_of_classes: integer, number of classes in a dataset.\n",
    "        '''        \n",
    "        super(ImageSearchModel, self).__init__()\n",
    "        \n",
    "        self._bn_layer = tf.keras.layers.BatchNormalization()\n",
    "        \n",
    "        self._conv_block_1 = ConvBlock(number_of_filters=64,\n",
    "                                       kernel_size=(3, 3),\n",
    "                                       strides=(1, 1),\n",
    "                                       padding='SAME',\n",
    "                                       activation=tf.nn.relu,\n",
    "                                       max_pool=True,\n",
    "                                       batch_norm=True)\n",
    "        \n",
    "        self._conv_block_2 = ConvBlock(number_of_filters=128, \n",
    "                                       kernel_size=(3, 3), \n",
    "                                       strides=(1, 1), \n",
    "                                       padding='SAME', \n",
    "                                       activation=tf.nn.relu, \n",
    "                                       max_pool=True, \n",
    "                                       batch_norm=True)\n",
    "        \n",
    "        self._conv_block_3 = ConvBlock(number_of_filters=256, \n",
    "                                       kernel_size=(5, 5), \n",
    "                                       strides=(1, 1), \n",
    "                                       padding='SAME', \n",
    "                                       activation=tf.nn.relu, \n",
    "                                       max_pool=True, \n",
    "                                       batch_norm=True)\n",
    "        \n",
    "        self._conv_block_4 = ConvBlock(number_of_filters=512, \n",
    "                                       kernel_size=(5, 5), \n",
    "                                       strides=(1, 1), \n",
    "                                       padding='SAME', \n",
    "                                       activation=tf.nn.relu, \n",
    "                                       max_pool=True, \n",
    "                                       batch_norm=True)\n",
    "        \n",
    "        self._flatten_layer = tf.keras.layers.Flatten()\n",
    "        \n",
    "        self._dense_block_1 = DenseBlock(units=128, \n",
    "                                         activation=tf.nn.relu, \n",
    "                                         dropout_rate=dropout_rate, \n",
    "                                         batch_norm=True)\n",
    "        \n",
    "        self._dense_block_2 = DenseBlock(units=256, \n",
    "                                         activation=tf.nn.relu, \n",
    "                                         dropout_rate=dropout_rate, \n",
    "                                         batch_norm=True)\n",
    "        \n",
    "        self._dense_block_3 = DenseBlock(units=512, \n",
    "                                         activation=tf.nn.relu, \n",
    "                                         dropout_rate=dropout_rate, \n",
    "                                         batch_norm=True)\n",
    "        \n",
    "        self._dense_block_4 = DenseBlock(units=1024, \n",
    "                                         activation=tf.nn.relu, \n",
    "                                         dropout_rate=dropout_rate, \n",
    "                                         batch_norm=True)\n",
    "        \n",
    "        self._final_dense = tf.keras.layers.Dense(units=number_of_classes,\n",
    "                                                  activation=None)\n",
    "        \n",
    "        self._final_softmax = tf.keras.layers.Softmax()\n",
    "        \n",
    "        \n",
    "    def call(self, inputs, training):\n",
    "        \n",
    "        x = self._bn_layer(inputs, training)\n",
    "        x, conv_1_features = self._conv_block_1(x, training)\n",
    "        x, conv_2_features = self._conv_block_2(x, training)\n",
    "        x, conv_3_features = self._conv_block_3(x, training)\n",
    "        x, conv_4_features = self._conv_block_4(x, training)\n",
    "        x = self._flatten_layer(x)\n",
    "        x, dense_1_features = self._dense_block_1(x, training)\n",
    "        x, dense_2_features = self._dense_block_2(x, training)\n",
    "        x, dense_3_features = self._dense_block_3(x, training)\n",
    "        x, dense_4_features = self._dense_block_4(x, training)\n",
    "        x = self._final_dense(x)\n",
    "        x = self._final_softmax(x)\n",
    "        return x, dense_2_features, dense_4_features\n"
   ]
  },
  {
   "cell_type": "code",
   "execution_count": 12,
   "metadata": {
    "scrolled": true
   },
   "outputs": [],
   "source": [
    "model = ImageSearchModel(0.6, (32, 32), 10)"
   ]
  },
  {
   "cell_type": "markdown",
   "metadata": {},
   "source": [
    "### Step 4 Training loop - training the model"
   ]
  },
  {
   "cell_type": "code",
   "execution_count": 13,
   "metadata": {},
   "outputs": [],
   "source": [
    "def train(model, epochs, batch_size, learning_rate,\n",
    "          data, save_dir, saver_delta=0.15, patience=2):\n",
    "    '''\n",
    "    The core training function, use this function to train a model.\n",
    "\n",
    "    :param model: CNN model\n",
    "    :param epochs: integer, number of epochs\n",
    "    :param drop_rate: float, dropout_rate\n",
    "    :param batch_size: integer, number of samples to put through the model at once\n",
    "    :param data: tuple, train-test data Example(X_train, y_train, X_valid, y_valid)\n",
    "    :param save_dir: string, path to a folder where model checkpoints will be saved\n",
    "    :param saver_delta: float, used to prevent overfitted model to be saved\n",
    "    :param patience: int, used for early stopping, number of consecutive epochs without improvement\n",
    "    '''\n",
    "\n",
    "    X_train, y_train, X_valid, y_valid = data\n",
    "    \n",
    "    #Call dummy predict to instantiate input shapes and execution graph\n",
    "    model.predict(x=np.random.randn(1, 32, 32, 3).astype('float32'))\n",
    "\n",
    "    best_test_accuracy = 0.0\n",
    "\n",
    "    optimizer = tf.keras.optimizers.Adam(learning_rate=learning_rate)\n",
    "    loss_fn = tf.keras.losses.SparseCategoricalCrossentropy()\n",
    "\n",
    "    epoch_val_accuracy = []\n",
    "    counter = 0\n",
    "\n",
    "    for epoch in range(epochs):\n",
    "\n",
    "        train_accuracy = []\n",
    "        train_loss = []\n",
    "\n",
    "        for ii in tqdm(range(len(X_train) // batch_size)):\n",
    "            start_id = ii * batch_size\n",
    "            end_id = start_id + batch_size\n",
    "\n",
    "            X_batch = X_train[start_id:end_id]\n",
    "            y_batch = y_train[start_id:end_id]\n",
    "\n",
    "            with tf.GradientTape() as tape:\n",
    "                class_probs, _, _ = model(X_batch, training=True)\n",
    "                loss_value = loss_fn(y_batch, class_probs)\n",
    "\n",
    "            grads = tape.gradient(loss_value, model.trainable_weights)\n",
    "            optimizer.apply_gradients(zip(grads, model.trainable_weights))\n",
    "\n",
    "            train_accuracy.append(sparse_accuracy(y_batch, class_probs))\n",
    "            train_loss.append(loss_value)\n",
    "\n",
    "        test_accuracy = []\n",
    "\n",
    "        for ii in tqdm(range(len(X_valid) // batch_size)):\n",
    "            start_id = ii*batch_size\n",
    "            end_id = start_id + batch_size\n",
    "\n",
    "            X_valid_batch = X_valid[start_id:end_id]\n",
    "            y_valid_batch = y_valid[start_id:end_id]\n",
    "\n",
    "            test_class_probs, _, _ = model(X_valid_batch, training=False)\n",
    "\n",
    "            test_accuracy.append(sparse_accuracy(y_valid_batch, test_class_probs))\n",
    "\n",
    "        print(f\"Epoch: {epoch+1}/{epochs}\",\n",
    "              f\" | Training accuracy: {np.mean(train_accuracy)}\"\n",
    "              f\" | Training loss: {np.mean(train_loss)}\")\n",
    "\n",
    "        mean_test_acc = np.mean(test_accuracy)\n",
    "        print(f\"Test accuracy: {mean_test_acc}\")\n",
    "\n",
    "        epoch_val_accuracy.append(mean_test_acc)\n",
    "\n",
    "        if mean_test_acc <= best_test_accuracy:\n",
    "            counter = counter + 1\n",
    "            if counter >= patience:\n",
    "                print(\"Early stopping. Exiting training.\")\n",
    "                return\n",
    "        else:\n",
    "            counter = 0\n",
    "            best_test_accuracy = mean_test_acc\n",
    "\n",
    "        if np.mean(train_accuracy) > np.mean(test_accuracy):  # to prevent underfitting\n",
    "            if np.abs(np.mean(train_accuracy) - np.mean(test_accuracy)) <= saver_delta:  # to prevent overfit\n",
    "                if np.mean(test_accuracy) >= best_test_accuracy:\n",
    "                    best_test_accuracy = np.mean(test_accuracy)\n",
    "                    model.save(os.path.join(save_dir, f\"model_epoch_{epoch+1}\"), save_format='tf')"
   ]
  },
  {
   "cell_type": "markdown",
   "metadata": {},
   "source": [
    "#### Setting hyperparameters and training the model"
   ]
  },
  {
   "cell_type": "code",
   "execution_count": 14,
   "metadata": {},
   "outputs": [],
   "source": [
    "epochs = 20\n",
    "batch_size = 128\n",
    "learning_rate = 0.001\n",
    "dropout_rate = 0.6\n",
    "image_size = (32, 32)"
   ]
  },
  {
   "cell_type": "code",
   "execution_count": 15,
   "metadata": {},
   "outputs": [],
   "source": [
    "X_train, y_train = dataset_preprocessing('dataset/train/', 'dataset/labels.txt', image_size=image_size, image_paths_pickle=\"train_images_pickle\", dtype='float32')"
   ]
  },
  {
   "cell_type": "code",
   "execution_count": 16,
   "metadata": {},
   "outputs": [
    {
     "data": {
      "text/plain": [
       "(50000, 32, 32, 3)"
      ]
     },
     "execution_count": 16,
     "metadata": {},
     "output_type": "execute_result"
    }
   ],
   "source": [
    "X_train.shape"
   ]
  },
  {
   "cell_type": "code",
   "execution_count": 17,
   "metadata": {},
   "outputs": [],
   "source": [
    "X_valid, y_valid = dataset_preprocessing('dataset/test/', 'dataset/labels.txt', image_size=image_size, image_paths_pickle=\"test_images_pickle\", dtype='float32')"
   ]
  },
  {
   "cell_type": "code",
   "execution_count": 18,
   "metadata": {},
   "outputs": [
    {
     "data": {
      "text/plain": [
       "(10000, 32, 32, 3)"
      ]
     },
     "execution_count": 18,
     "metadata": {},
     "output_type": "execute_result"
    }
   ],
   "source": [
    "X_valid.shape"
   ]
  },
  {
   "cell_type": "code",
   "execution_count": 19,
   "metadata": {},
   "outputs": [],
   "source": [
    "#define the model\n",
    "model = ImageSearchModel(dropout_rate, image_size)"
   ]
  },
  {
   "cell_type": "code",
   "execution_count": 20,
   "metadata": {},
   "outputs": [],
   "source": [
    "data = (X_train, y_train, X_valid, y_valid)"
   ]
  },
  {
   "cell_type": "code",
   "execution_count": 21,
   "metadata": {},
   "outputs": [
    {
     "data": {
      "text/plain": [
       "array([6., 1., 6., ..., 5., 1., 3.], dtype=float32)"
      ]
     },
     "execution_count": 21,
     "metadata": {},
     "output_type": "execute_result"
    }
   ],
   "source": [
    "y_train"
   ]
  },
  {
   "cell_type": "code",
   "execution_count": 22,
   "metadata": {
    "scrolled": true
   },
   "outputs": [
    {
     "name": "stdout",
     "output_type": "stream",
     "text": [
      "WARNING:tensorflow:Large dropout rate: 0.6 (>0.5). In TensorFlow 2.x, dropout() uses dropout rate instead of keep_prob. Please ensure that this is intended.\n",
      "WARNING:tensorflow:Large dropout rate: 0.6 (>0.5). In TensorFlow 2.x, dropout() uses dropout rate instead of keep_prob. Please ensure that this is intended.\n",
      "WARNING:tensorflow:Large dropout rate: 0.6 (>0.5). In TensorFlow 2.x, dropout() uses dropout rate instead of keep_prob. Please ensure that this is intended.\n",
      "WARNING:tensorflow:Large dropout rate: 0.6 (>0.5). In TensorFlow 2.x, dropout() uses dropout rate instead of keep_prob. Please ensure that this is intended.\n"
     ]
    },
    {
     "name": "stderr",
     "output_type": "stream",
     "text": [
      "\r",
      "  0%|                                                                                          | 0/390 [00:00<?, ?it/s]"
     ]
    },
    {
     "name": "stdout",
     "output_type": "stream",
     "text": [
      "WARNING:tensorflow:Large dropout rate: 0.6 (>0.5). In TensorFlow 2.x, dropout() uses dropout rate instead of keep_prob. Please ensure that this is intended.\n"
     ]
    },
    {
     "name": "stderr",
     "output_type": "stream",
     "text": [
      "100%|████████████████████████████████████████████████████████████████████████████████| 390/390 [00:47<00:00,  8.14it/s]\n",
      "100%|██████████████████████████████████████████████████████████████████████████████████| 78/78 [00:05<00:00, 15.54it/s]\n",
      "  0%|▏                                                                                 | 1/390 [00:00<00:46,  8.38it/s]"
     ]
    },
    {
     "name": "stdout",
     "output_type": "stream",
     "text": [
      "Epoch: 1/20  | Training accuracy: 0.274198717948718 | Training loss: 2.0507140159606934\n",
      "Test accuracy: 0.41075721153846156\n"
     ]
    },
    {
     "name": "stderr",
     "output_type": "stream",
     "text": [
      "100%|████████████████████████████████████████████████████████████████████████████████| 390/390 [00:47<00:00,  8.13it/s]\n",
      "100%|██████████████████████████████████████████████████████████████████████████████████| 78/78 [00:05<00:00, 15.50it/s]\n",
      "  0%|▏                                                                                 | 1/390 [00:00<00:46,  8.35it/s]"
     ]
    },
    {
     "name": "stdout",
     "output_type": "stream",
     "text": [
      "Epoch: 2/20  | Training accuracy: 0.4787059294871795 | Training loss: 1.3944147825241089\n",
      "Test accuracy: 0.6211939102564102\n"
     ]
    },
    {
     "name": "stderr",
     "output_type": "stream",
     "text": [
      "100%|████████████████████████████████████████████████████████████████████████████████| 390/390 [00:47<00:00,  8.26it/s]\n",
      "100%|██████████████████████████████████████████████████████████████████████████████████| 78/78 [00:05<00:00, 15.49it/s]\n",
      "  0%|▏                                                                                 | 1/390 [00:00<00:48,  7.94it/s]"
     ]
    },
    {
     "name": "stdout",
     "output_type": "stream",
     "text": [
      "Epoch: 3/20  | Training accuracy: 0.6103766025641025 | Training loss: 1.0978662967681885\n",
      "Test accuracy: 0.6880008012820513\n"
     ]
    },
    {
     "name": "stderr",
     "output_type": "stream",
     "text": [
      "100%|████████████████████████████████████████████████████████████████████████████████| 390/390 [00:46<00:00,  8.34it/s]\n",
      "100%|██████████████████████████████████████████████████████████████████████████████████| 78/78 [00:04<00:00, 16.04it/s]\n",
      "  0%|▏                                                                                 | 1/390 [00:00<00:45,  8.54it/s]"
     ]
    },
    {
     "name": "stdout",
     "output_type": "stream",
     "text": [
      "Epoch: 4/20  | Training accuracy: 0.6967948717948718 | Training loss: 0.8917383551597595\n",
      "Test accuracy: 0.7311698717948718\n"
     ]
    },
    {
     "name": "stderr",
     "output_type": "stream",
     "text": [
      "100%|████████████████████████████████████████████████████████████████████████████████| 390/390 [00:47<00:00,  8.21it/s]\n",
      "100%|██████████████████████████████████████████████████████████████████████████████████| 78/78 [00:04<00:00, 16.12it/s]\n"
     ]
    },
    {
     "name": "stdout",
     "output_type": "stream",
     "text": [
      "Epoch: 5/20  | Training accuracy: 0.7516826923076924 | Training loss: 0.7533165812492371\n",
      "Test accuracy: 0.7498998397435898\n",
      "WARNING:tensorflow:From C:\\Users\\kypis\\Anaconda3\\envs\\tf-gpu\\lib\\site-packages\\tensorflow_core\\python\\ops\\resource_variable_ops.py:1781: calling BaseResourceVariable.__init__ (from tensorflow.python.ops.resource_variable_ops) with constraint is deprecated and will be removed in a future version.\n",
      "Instructions for updating:\n",
      "If using Keras pass *_constraint arguments to layers.\n",
      "INFO:tensorflow:Assets written to: saver\\model_epoch_5\\assets\n"
     ]
    },
    {
     "name": "stderr",
     "output_type": "stream",
     "text": [
      "100%|████████████████████████████████████████████████████████████████████████████████| 390/390 [00:46<00:00,  8.38it/s]\n",
      "100%|██████████████████████████████████████████████████████████████████████████████████| 78/78 [00:04<00:00, 16.26it/s]\n"
     ]
    },
    {
     "name": "stdout",
     "output_type": "stream",
     "text": [
      "Epoch: 6/20  | Training accuracy: 0.807071314102564 | Training loss: 0.597019374370575\n",
      "Test accuracy: 0.7758413461538461\n",
      "INFO:tensorflow:Assets written to: saver\\model_epoch_6\\assets\n"
     ]
    },
    {
     "name": "stderr",
     "output_type": "stream",
     "text": [
      "100%|████████████████████████████████████████████████████████████████████████████████| 390/390 [00:46<00:00,  8.43it/s]\n",
      "100%|██████████████████████████████████████████████████████████████████████████████████| 78/78 [00:04<00:00, 16.48it/s]\n",
      "  0%|▏                                                                                 | 1/390 [00:00<00:45,  8.61it/s]"
     ]
    },
    {
     "name": "stdout",
     "output_type": "stream",
     "text": [
      "Epoch: 7/20  | Training accuracy: 0.8493189102564103 | Training loss: 0.4832701086997986\n",
      "Test accuracy: 0.7747395833333334\n"
     ]
    },
    {
     "name": "stderr",
     "output_type": "stream",
     "text": [
      "100%|████████████████████████████████████████████████████████████████████████████████| 390/390 [00:47<00:00,  8.26it/s]\n",
      "100%|██████████████████████████████████████████████████████████████████████████████████| 78/78 [00:05<00:00, 15.39it/s]\n"
     ]
    },
    {
     "name": "stdout",
     "output_type": "stream",
     "text": [
      "Epoch: 8/20  | Training accuracy: 0.8776442307692308 | Training loss: 0.39816945791244507\n",
      "Test accuracy: 0.7826522435897436\n",
      "INFO:tensorflow:Assets written to: saver\\model_epoch_8\\assets\n"
     ]
    },
    {
     "name": "stderr",
     "output_type": "stream",
     "text": [
      "100%|████████████████████████████████████████████████████████████████████████████████| 390/390 [00:48<00:00,  8.03it/s]\n",
      "100%|██████████████████████████████████████████████████████████████████████████████████| 78/78 [00:04<00:00, 15.87it/s]\n"
     ]
    },
    {
     "name": "stdout",
     "output_type": "stream",
     "text": [
      "Epoch: 9/20  | Training accuracy: 0.903926282051282 | Training loss: 0.3149223327636719\n",
      "Test accuracy: 0.7928685897435898\n",
      "INFO:tensorflow:Assets written to: saver\\model_epoch_9\\assets\n"
     ]
    },
    {
     "name": "stderr",
     "output_type": "stream",
     "text": [
      "100%|████████████████████████████████████████████████████████████████████████████████| 390/390 [00:47<00:00,  8.23it/s]\n",
      "100%|██████████████████████████████████████████████████████████████████████████████████| 78/78 [00:04<00:00, 15.71it/s]\n"
     ]
    },
    {
     "name": "stdout",
     "output_type": "stream",
     "text": [
      "Epoch: 10/20  | Training accuracy: 0.9210536858974359 | Training loss: 0.2612737715244293\n",
      "Test accuracy: 0.7930689102564102\n",
      "INFO:tensorflow:Assets written to: saver\\model_epoch_10\\assets\n"
     ]
    },
    {
     "name": "stderr",
     "output_type": "stream",
     "text": [
      "100%|████████████████████████████████████████████████████████████████████████████████| 390/390 [00:46<00:00,  8.34it/s]\n",
      "100%|██████████████████████████████████████████████████████████████████████████████████| 78/78 [00:05<00:00, 15.57it/s]\n",
      "  0%|▏                                                                                 | 1/390 [00:00<00:48,  8.06it/s]"
     ]
    },
    {
     "name": "stdout",
     "output_type": "stream",
     "text": [
      "Epoch: 11/20  | Training accuracy: 0.9347155448717949 | Training loss: 0.21870754659175873\n",
      "Test accuracy: 0.7880608974358975\n"
     ]
    },
    {
     "name": "stderr",
     "output_type": "stream",
     "text": [
      "100%|████████████████████████████████████████████████████████████████████████████████| 390/390 [00:47<00:00,  8.16it/s]\n",
      "100%|██████████████████████████████████████████████████████████████████████████████████| 78/78 [00:04<00:00, 16.06it/s]\n"
     ]
    },
    {
     "name": "stdout",
     "output_type": "stream",
     "text": [
      "Epoch: 12/20  | Training accuracy: 0.9474959935897436 | Training loss: 0.18174785375595093\n",
      "Test accuracy: 0.7899639423076923\n",
      "Early stopping. Exiting training.\n"
     ]
    }
   ],
   "source": [
    "train(model=model, epochs=epochs, batch_size=batch_size, learning_rate=learning_rate, data=data, save_dir='saver')"
   ]
  },
  {
   "cell_type": "code",
   "execution_count": 23,
   "metadata": {},
   "outputs": [
    {
     "data": {
      "text/plain": [
       "[array([[0.01262394, 0.00067239, 0.04530236, 0.6138875 , 0.24514836,\n",
       "         0.02992544, 0.0097716 , 0.03048124, 0.00868098, 0.00350616]],\n",
       "       dtype=float32),\n",
       " array([[5.46714030e-02, 0.00000000e+00, 4.20947671e-01, 1.30937211e-02,\n",
       "         1.12405226e-01, 3.96419019e-01, 1.65795073e-01, 3.09877813e-01,\n",
       "         0.00000000e+00, 0.00000000e+00, 2.22259045e-01, 1.52143061e-01,\n",
       "         1.77773058e-01, 0.00000000e+00, 7.34590888e-02, 1.47961080e-01,\n",
       "         1.43809095e-02, 0.00000000e+00, 0.00000000e+00, 0.00000000e+00,\n",
       "         1.51370913e-01, 3.18163693e-01, 0.00000000e+00, 1.80075198e-01,\n",
       "         0.00000000e+00, 0.00000000e+00, 0.00000000e+00, 8.71957988e-02,\n",
       "         1.68478474e-01, 3.05344760e-01, 2.96905309e-01, 0.00000000e+00,\n",
       "         2.97947854e-01, 0.00000000e+00, 2.32263863e-01, 4.21510488e-01,\n",
       "         0.00000000e+00, 4.23440076e-02, 0.00000000e+00, 0.00000000e+00,\n",
       "         2.05586195e-01, 0.00000000e+00, 0.00000000e+00, 3.91462713e-01,\n",
       "         0.00000000e+00, 0.00000000e+00, 1.07997358e-01, 3.63048986e-02,\n",
       "         0.00000000e+00, 0.00000000e+00, 2.01144233e-01, 2.06365600e-01,\n",
       "         0.00000000e+00, 4.28569652e-02, 1.67510971e-01, 0.00000000e+00,\n",
       "         0.00000000e+00, 0.00000000e+00, 4.85579282e-01, 2.77344082e-02,\n",
       "         1.21614784e-01, 4.63639684e-02, 0.00000000e+00, 1.30326092e-01,\n",
       "         0.00000000e+00, 2.77463764e-01, 1.77348778e-01, 8.39165002e-02,\n",
       "         0.00000000e+00, 2.40768958e-02, 0.00000000e+00, 0.00000000e+00,\n",
       "         0.00000000e+00, 1.91764861e-01, 0.00000000e+00, 1.09537564e-01,\n",
       "         4.18626294e-02, 0.00000000e+00, 0.00000000e+00, 2.57748574e-01,\n",
       "         0.00000000e+00, 1.99642614e-01, 7.47686625e-02, 2.94790298e-01,\n",
       "         1.09451830e-01, 5.85290156e-02, 0.00000000e+00, 1.66126136e-02,\n",
       "         0.00000000e+00, 6.97112381e-02, 0.00000000e+00, 9.16005392e-03,\n",
       "         0.00000000e+00, 6.12023883e-02, 0.00000000e+00, 4.29024577e-01,\n",
       "         3.34631622e-01, 0.00000000e+00, 0.00000000e+00, 6.33081943e-02,\n",
       "         4.05830294e-01, 2.28430450e-01, 0.00000000e+00, 6.50828242e-01,\n",
       "         8.21554065e-02, 0.00000000e+00, 7.86235407e-02, 3.23280424e-01,\n",
       "         0.00000000e+00, 0.00000000e+00, 1.61659911e-01, 0.00000000e+00,\n",
       "         1.69319972e-01, 0.00000000e+00, 2.43864253e-01, 0.00000000e+00,\n",
       "         1.48684710e-01, 0.00000000e+00, 3.52264702e-01, 9.25031155e-02,\n",
       "         1.22772388e-01, 5.72522022e-02, 2.28831753e-01, 0.00000000e+00,\n",
       "         0.00000000e+00, 2.45314956e-01, 0.00000000e+00, 1.01623185e-01,\n",
       "         1.57224581e-01, 1.76545262e-01, 0.00000000e+00, 1.92500100e-01,\n",
       "         6.13570809e-01, 4.17424828e-01, 1.85003757e-01, 0.00000000e+00,\n",
       "         4.18637246e-01, 4.99109715e-01, 3.40970576e-01, 1.68862082e-02,\n",
       "         0.00000000e+00, 0.00000000e+00, 8.49040225e-04, 3.46678674e-01,\n",
       "         4.03007835e-01, 8.58802050e-02, 8.61372054e-02, 0.00000000e+00,\n",
       "         1.25744790e-01, 1.95245221e-02, 0.00000000e+00, 0.00000000e+00,\n",
       "         1.65540755e-01, 5.61092347e-02, 0.00000000e+00, 0.00000000e+00,\n",
       "         4.55917180e-01, 1.53458267e-02, 0.00000000e+00, 1.74624741e-01,\n",
       "         0.00000000e+00, 3.82383913e-03, 0.00000000e+00, 0.00000000e+00,\n",
       "         0.00000000e+00, 0.00000000e+00, 5.76251209e-01, 0.00000000e+00,\n",
       "         1.04097560e-01, 0.00000000e+00, 0.00000000e+00, 0.00000000e+00,\n",
       "         0.00000000e+00, 0.00000000e+00, 0.00000000e+00, 1.61050767e-01,\n",
       "         2.89002061e-02, 3.16867381e-02, 2.38650039e-01, 1.40961200e-01,\n",
       "         0.00000000e+00, 0.00000000e+00, 5.90514421e-01, 1.49799213e-02,\n",
       "         0.00000000e+00, 1.77105844e-01, 6.16814017e-01, 0.00000000e+00,\n",
       "         4.49389108e-02, 0.00000000e+00, 0.00000000e+00, 2.42309049e-01,\n",
       "         1.18669346e-01, 5.16421378e-01, 1.08828783e-01, 0.00000000e+00,\n",
       "         0.00000000e+00, 5.35074532e-01, 4.76188958e-04, 0.00000000e+00,\n",
       "         1.53840333e-03, 0.00000000e+00, 0.00000000e+00, 9.05427113e-02,\n",
       "         0.00000000e+00, 0.00000000e+00, 1.61146581e-01, 6.22022897e-02,\n",
       "         0.00000000e+00, 2.86646605e-01, 0.00000000e+00, 3.24090987e-01,\n",
       "         2.51061618e-01, 1.57797873e-01, 3.61564457e-01, 0.00000000e+00,\n",
       "         2.08118379e-01, 5.37700534e-01, 6.09556913e-01, 0.00000000e+00,\n",
       "         0.00000000e+00, 2.83554405e-01, 1.73268497e-01, 4.59438443e-01,\n",
       "         2.62866586e-01, 1.63740918e-01, 0.00000000e+00, 0.00000000e+00,\n",
       "         0.00000000e+00, 1.88362658e-01, 3.49118561e-01, 4.76355642e-01,\n",
       "         0.00000000e+00, 1.95820481e-01, 1.05765834e-03, 0.00000000e+00,\n",
       "         0.00000000e+00, 3.00305605e-01, 0.00000000e+00, 7.66629651e-02,\n",
       "         1.83191314e-01, 2.75988758e-01, 1.55963674e-02, 2.21546710e-01,\n",
       "         3.88898663e-02, 0.00000000e+00, 0.00000000e+00, 3.43298167e-01,\n",
       "         0.00000000e+00, 0.00000000e+00, 0.00000000e+00, 2.96238996e-02,\n",
       "         2.22716182e-01, 3.19920570e-01, 1.48562551e-01, 4.21299338e-01]],\n",
       "       dtype=float32),\n",
       " array([[0.51154906, 0.6134263 , 0.2655989 , ..., 1.155918  , 0.51402295,\n",
       "         0.8948404 ]], dtype=float32)]"
      ]
     },
     "execution_count": 23,
     "metadata": {},
     "output_type": "execute_result"
    }
   ],
   "source": [
    "#Load the best model on Test accuracy, testing on a dummy array to ensure it works\n",
    "model = tf.keras.models.load_model(os.path.join(\"saver\", \"model_epoch_10\"))\n",
    "model.predict(x=np.ones((1, 32, 32, 3), dtype='float32'))"
   ]
  },
  {
   "cell_type": "markdown",
   "metadata": {},
   "source": [
    "### Step 6 Create training set vectors | Define Inference function"
   ]
  },
  {
   "cell_type": "markdown",
   "metadata": {},
   "source": [
    "![](helper_images/conv_model_vectors.png)"
   ]
  },
  {
   "cell_type": "markdown",
   "metadata": {},
   "source": [
    "![](helper_images/hamming.png)"
   ]
  },
  {
   "cell_type": "code",
   "execution_count": 24,
   "metadata": {},
   "outputs": [],
   "source": [
    "def create_training_set_vectors_with_colors(model, \n",
    "                                            X_train, \n",
    "                                            y_train,\n",
    "                                            batch_size,\n",
    "                                            image_size, \n",
    "                                            distance='hamming'):\n",
    "    \n",
    "    '''\n",
    "    Creates training set vectors and saves them in a pickle file.\n",
    "    \n",
    "    :param model: CNN model\n",
    "    :param X_train: numpy array, loaded training set images\n",
    "    :param y_train: numpy array,loaded training set labels\n",
    "    :param batch_size: integer, number of samples to put trhough the model at once\n",
    "    :param checkpoint_path: string, path to the model checkpoint\n",
    "    :param image_size: tuple, single image (height, width)\n",
    "    :param distance: string, type of distance to be used, \n",
    "                             this parameter is used to choose a way how to prepare and save training set vectors\n",
    "    '''\n",
    "    \n",
    "    dense_2_features = []\n",
    "    dense_4_features = []\n",
    "    \n",
    "    ##########################################################################\n",
    "    ### Calculate color feature vectors for each image in the training set ###\n",
    "    color_features = []\n",
    "    for img in X_train:\n",
    "        channels = cv2.split(img)\n",
    "        features = []\n",
    "        for chan in channels:\n",
    "            hist = cv2.calcHist([chan], [0], None, [256], [0, 256])\n",
    "            features.append(hist)\n",
    "            \n",
    "        color_features.append(np.vstack(features).squeeze())\n",
    "    ##########################################################################\n",
    "    \n",
    "    #iterate through training set\n",
    "    for ii in tqdm(range(len(X_train) // batch_size)):\n",
    "        start_id = ii*batch_size\n",
    "        end_id = start_id + batch_size\n",
    "\n",
    "        X_batch = X_train[start_id:end_id]\n",
    "        \n",
    "        _, dense_2, dense_4 = model(X_batch, training=False)\n",
    "        \n",
    "        dense_2_features.append(dense_2)\n",
    "        dense_4_features.append(dense_4)\n",
    "        \n",
    "    dense_2_features = np.vstack(dense_2_features)\n",
    "    dense_4_features = np.vstack(dense_4_features)\n",
    "    #hamming distance - vectors processing\n",
    "    if distance == 'hamming':\n",
    "        dense_2_features = np.where(dense_2_features < 0.5, 0, 1) #binarize vectors\n",
    "        dense_4_features = np.where(dense_4_features < 0.5, 0, 1)\n",
    "        \n",
    "        training_vectors = np.hstack((dense_2_features, dense_4_features))\n",
    "        with open('hamming_train_vectors.pickle', 'wb') as f:\n",
    "            pickle.dump(training_vectors, f)\n",
    "            \n",
    "    #cosine distance - vectors processing\n",
    "    elif distance == 'cosine':\n",
    "        training_vectors = np.hstack((dense_2_features, dense_4_features))\n",
    "        training_vectors = np.hstack((training_vectors, color_features[:len(training_vectors)]))\n",
    "        with open('cosine_train_vectors.pickle', 'wb') as f:\n",
    "            pickle.dump(training_vectors, f)\n",
    "            \n",
    "    #########################################################################\n",
    "    ### Save training set color feature vectors to a separate pickle file ###\n",
    "    with open('color_vectors.pickle', 'wb') as f:\n",
    "        pickle.dump(color_features[:len(training_vectors)], f)\n",
    "    #########################################################################"
   ]
  },
  {
   "cell_type": "code",
   "execution_count": 25,
   "metadata": {
    "scrolled": false
   },
   "outputs": [
    {
     "name": "stderr",
     "output_type": "stream",
     "text": [
      "100%|███████████████████████████████████████████████████████████████████████████████| 390/390 [00:03<00:00, 121.57it/s]\n"
     ]
    }
   ],
   "source": [
    "create_training_set_vectors_with_colors(model, X_train, y_train, batch_size, image_size)"
   ]
  },
  {
   "cell_type": "code",
   "execution_count": 26,
   "metadata": {},
   "outputs": [],
   "source": [
    "def compare_color(color_vectors, \n",
    "                  uploaded_image_colors, \n",
    "                  ids):\n",
    "    '''\n",
    "    Comparing color vectors of closest images from the training set with a color vector of a uploaded image (query image).\n",
    "    \n",
    "    :param color_vectors: color features vectors of closest training set images to the uploaded image\n",
    "    :param uploaded_image_colors: color vector of the uploaded image\n",
    "    :param ids: indices of training images being closest to the uploaded image (output from a distance function) \n",
    "    '''\n",
    "    color_distances = []\n",
    "    \n",
    "    for i in range(len(color_vectors)):\n",
    "        color_distances.append(euclidean(color_vectors[i], uploaded_image_colors))\n",
    "        \n",
    "    #The 15 is just an random number that I have choosen, you can return as many as you need/want\n",
    "    return ids[np.argsort(color_distances)[:15]] "
   ]
  },
  {
   "cell_type": "code",
   "execution_count": 27,
   "metadata": {},
   "outputs": [],
   "source": [
    "def simple_inference(model,\n",
    "                     train_set_vectors, \n",
    "                     uploaded_image_path,\n",
    "                     image_size, \n",
    "                     distance='hamming'):\n",
    "    \n",
    "    '''\n",
    "    Doing simple inference for single uploaded image.\n",
    "    \n",
    "    :param model: CNN model\n",
    "    :param session: tf.Session, restored session\n",
    "    :param train_set_vectors: loaded training set vectors\n",
    "    :param uploaded_image_path: string, path to the uploaded image\n",
    "    :param image_size: tuple, single image (height, width)\n",
    "    :param dsitance: string, type of distance to be used, \n",
    "                             this parameter is used to choose a way how to prepare vectors\n",
    "    '''\n",
    "    \n",
    "    image = image_loader(uploaded_image_path, image_size)\n",
    "    channels = cv2.split(image)\n",
    "    features = []\n",
    "    \n",
    "    for chan in channels:\n",
    "        hist = cv2.calcHist([chan], [0], None, [256], [0, 256])\n",
    "        features.append(hist)\n",
    "\n",
    "    color_features = np.vstack(features).T\n",
    "    \n",
    "    _, dense_2_features, dense_4_features = model(image, training=False)\n",
    "    \n",
    "    closest_ids = None\n",
    "    if distance == 'hamming':\n",
    "        dense_2_features = np.where(dense_2_features < 0.5, 0, 1)\n",
    "        dense_4_features = np.where(dense_4_features < 0.5, 0, 1)\n",
    "        \n",
    "        uploaded_image_vector = np.hstack((dense_2_features, dense_4_features))\n",
    "        \n",
    "        closest_ids = hamming_distance(train_set_vectors, uploaded_image_vector)\n",
    "        \n",
    "    elif distance == 'cosine':\n",
    "        uploaded_image_vector = np.hstack((dense_2_features, dense_4_features))\n",
    "        \n",
    "        closest_ids = cosine_distance(train_set_vectors, uploaded_image_vector)\n",
    "        \n",
    "    return closest_ids"
   ]
  },
  {
   "cell_type": "code",
   "execution_count": 28,
   "metadata": {},
   "outputs": [],
   "source": [
    "def simple_inference_with_color_filters(model, \n",
    "                                         train_set_vectors, \n",
    "                                         uploaded_image_path,\n",
    "                                         color_vectors,\n",
    "                                         image_size, \n",
    "                                         distance='hamming'):\n",
    "    \n",
    "    '''\n",
    "    Doing simple inference for single uploaded image.\n",
    "    \n",
    "    :param model: CNN model\n",
    "    :param session: tf.Session, restored session\n",
    "    :param train_set_vectors: loaded training set vectors\n",
    "    :param uploaded_image_path: string, path to the uploaded image\n",
    "    :param color_vectors: loaded training set color features vectors\n",
    "    :param image_size: tuple, single image (height, width)\n",
    "    :param dsitance: string, type of distance to be used, \n",
    "                             this parameter is used to choose a way how to prepare vectors\n",
    "    '''\n",
    "    \n",
    "    image = image_loader(uploaded_image_path, image_size)\n",
    "    \n",
    "    ####################################################\n",
    "    ## Calculating color histogram of the query image ##\n",
    "    channels = cv2.split(image)\n",
    "    features = []\n",
    "    for chan in channels:\n",
    "        hist = cv2.calcHist([chan], [0], None, [256], [0, 256])\n",
    "        features.append(hist)\n",
    "\n",
    "    color_features = np.vstack(features).T\n",
    "    ####################################################\n",
    "    \n",
    "    img_input = np.expand_dims(image, axis=0).astype('float32')\n",
    "    _, dense_2_features, dense_4_features = model(img_input, training=False)\n",
    "    \n",
    "    closest_ids = None\n",
    "    if distance == 'hamming':\n",
    "        dense_2_features = np.where(dense_2_features < 0.5, 0, 1)\n",
    "        dense_4_features = np.where(dense_4_features < 0.5, 0, 1)\n",
    "        \n",
    "        uploaded_image_vector = np.hstack((dense_2_features, dense_4_features))\n",
    "        \n",
    "        closest_ids = hamming_distance(train_set_vectors, uploaded_image_vector)\n",
    "        \n",
    "        #Comparing color features between query image and closest images selected by the model\n",
    "        closest_ids = compare_color(np.array(color_vectors)[closest_ids], color_features, closest_ids)\n",
    "        \n",
    "    elif distance == 'cosine':\n",
    "        uploaded_image_vector = np.hstack((dense_2_features, dense_4_features))\n",
    "        \n",
    "        closest_ids = cosine_distance(train_set_vectors, uploaded_image_vector)\n",
    "        \n",
    "        #Comparing color features between query image and closest images selected by the model\n",
    "        closest_ids = compare_color(np.array(color_vectors)[closest_ids], color_features, closest_ids)\n",
    "        \n",
    "    return closest_ids"
   ]
  },
  {
   "cell_type": "markdown",
   "metadata": {},
   "source": [
    "### Pipeline test\n",
    "\n",
    "#### Define session and model"
   ]
  },
  {
   "cell_type": "code",
   "execution_count": 43,
   "metadata": {},
   "outputs": [],
   "source": []
  },
  {
   "cell_type": "markdown",
   "metadata": {},
   "source": [
    "#### Restore session"
   ]
  },
  {
   "cell_type": "code",
   "execution_count": 31,
   "metadata": {},
   "outputs": [],
   "source": [
    "# With tf2 no need to deal with sessions and restoring, just load_model"
   ]
  },
  {
   "cell_type": "markdown",
   "metadata": {},
   "source": [
    "#### Load training set image paths"
   ]
  },
  {
   "cell_type": "code",
   "execution_count": 29,
   "metadata": {},
   "outputs": [],
   "source": [
    "with open('train_images_pickle.pickle', 'rb') as f:\n",
    "    train_image_paths = pickle.load(f)"
   ]
  },
  {
   "cell_type": "code",
   "execution_count": 30,
   "metadata": {},
   "outputs": [
    {
     "data": {
      "text/plain": [
       "['dataset/train/0_frog.png',\n",
       " 'dataset/train/10000_automobile.png',\n",
       " 'dataset/train/10001_frog.png',\n",
       " 'dataset/train/10002_frog.png',\n",
       " 'dataset/train/10003_ship.png',\n",
       " 'dataset/train/10004_ship.png',\n",
       " 'dataset/train/10005_cat.png',\n",
       " 'dataset/train/10006_deer.png',\n",
       " 'dataset/train/10007_frog.png',\n",
       " 'dataset/train/10008_airplane.png']"
      ]
     },
     "execution_count": 30,
     "metadata": {},
     "output_type": "execute_result"
    }
   ],
   "source": [
    "train_image_paths[:10]"
   ]
  },
  {
   "cell_type": "markdown",
   "metadata": {},
   "source": [
    "#### Load trainig set vectors"
   ]
  },
  {
   "cell_type": "code",
   "execution_count": 31,
   "metadata": {},
   "outputs": [],
   "source": [
    "with open('hamming_train_vectors.pickle', 'rb') as f:\n",
    "    train_set_vectors = pickle.load(f)"
   ]
  },
  {
   "cell_type": "code",
   "execution_count": 32,
   "metadata": {},
   "outputs": [],
   "source": [
    "with open('color_vectors.pickle', 'rb') as f:\n",
    "    color_vectors = pickle.load(f)"
   ]
  },
  {
   "cell_type": "code",
   "execution_count": 33,
   "metadata": {},
   "outputs": [],
   "source": [
    "test_image = 'dataset/test/1052_airplane.png'"
   ]
  },
  {
   "cell_type": "markdown",
   "metadata": {},
   "source": [
    "#### Get closest images - ids"
   ]
  },
  {
   "cell_type": "code",
   "execution_count": 34,
   "metadata": {
    "scrolled": true
   },
   "outputs": [],
   "source": [
    "result_ids = simple_inference_with_color_filters(model, train_set_vectors, test_image, color_vectors, image_size, distance='hamming')"
   ]
  },
  {
   "cell_type": "markdown",
   "metadata": {},
   "source": [
    "### Show query image"
   ]
  },
  {
   "cell_type": "code",
   "execution_count": 35,
   "metadata": {},
   "outputs": [
    {
     "data": {
      "text/plain": [
       "<matplotlib.image.AxesImage at 0x21ad20aeb08>"
      ]
     },
     "execution_count": 35,
     "metadata": {},
     "output_type": "execute_result"
    },
    {
     "data": {
      "image/png": "[encoded data removed]",
      "text/plain": [
       "<Figure size 432x288 with 1 Axes>"
      ]
     },
     "metadata": {
      "needs_background": "light"
     },
     "output_type": "display_data"
    }
   ],
   "source": [
    "plt.imshow(image_loader(test_image, image_size))"
   ]
  },
  {
   "cell_type": "markdown",
   "metadata": {},
   "source": [
    "### Show result images"
   ]
  },
  {
   "cell_type": "code",
   "execution_count": 36,
   "metadata": {},
   "outputs": [
    {
     "data": {
      "image/png": "[encoded data removed]",
      "text/plain": [
       "<Figure size 1152x1152 with 14 Axes>"
      ]
     },
     "metadata": {
      "needs_background": "light"
     },
     "output_type": "display_data"
    }
   ],
   "source": [
    "w = 10\n",
    "h = 10\n",
    "fig = plt.figure(figsize=(16, 16))\n",
    "colums = 10\n",
    "rows = 5\n",
    "for i in range(1, colums*rows+1):\n",
    "    try:\n",
    "        image = image_loader(train_image_paths[result_ids[i]], image_size)\n",
    "        fig.add_subplot(rows, colums, i)\n",
    "        plt.imshow(image)\n",
    "    except:\n",
    "        pass\n",
    "plt.show()"
   ]
  },
  {
   "cell_type": "markdown",
   "metadata": {},
   "source": []
  },
  {
   "cell_type": "code",
   "execution_count": null,
   "metadata": {},
   "outputs": [],
   "source": []
  },
  {
   "cell_type": "code",
   "execution_count": null,
   "metadata": {},
   "outputs": [],
   "source": []
  },
  {
   "cell_type": "code",
   "execution_count": null,
   "metadata": {},
   "outputs": [],
   "source": []
  },
  {
   "cell_type": "code",
   "execution_count": null,
   "metadata": {},
   "outputs": [],
   "source": []
  },
  {
   "cell_type": "code",
   "execution_count": null,
   "metadata": {},
   "outputs": [],
   "source": []
  },
  {
   "cell_type": "code",
   "execution_count": null,
   "metadata": {},
   "outputs": [],
   "source": []
  },
  {
   "cell_type": "code",
   "execution_count": 37,
   "metadata": {},
   "outputs": [
    {
     "data": {
      "image/png": "[encoded data removed]",
      "text/plain": [
       "<Figure size 432x288 with 1 Axes>"
      ]
     },
     "metadata": {
      "needs_background": "light"
     },
     "output_type": "display_data"
    }
   ],
   "source": [
    "chans = cv2.split(X_train[0])\n",
    "features = []\n",
    "for chan in chans:\n",
    "    hist = cv2.calcHist([chan], [0], None, [256], [0, 256])\n",
    "    features.append(hist)\n",
    "    \n",
    "    plt.plot(hist)\n",
    "    plt.xlim([0, 256])"
   ]
  },
  {
   "cell_type": "code",
   "execution_count": null,
   "metadata": {},
   "outputs": [],
   "source": []
  }
 ],
 "metadata": {
  "kernelspec": {
   "display_name": "Python 3",
   "language": "python",
   "name": "python3"
  },
  "language_info": {
   "codemirror_mode": {
    "name": "ipython",
    "version": 3
   },
   "file_extension": ".py",
   "mimetype": "text/x-python",
   "name": "python",
   "nbconvert_exporter": "python",
   "pygments_lexer": "ipython3",
   "version": "3.7.5"
  }
 },
 "nbformat": 4,
 "nbformat_minor": 2
}
