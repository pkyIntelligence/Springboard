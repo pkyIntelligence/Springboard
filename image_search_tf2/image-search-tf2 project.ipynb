{
 "cells": [
  {
   "cell_type": "markdown",
   "metadata": {},
   "source": [
    "### Step 0 Import dependencies"
   ]
  },
  {
   "cell_type": "code",
   "execution_count": 1,
   "metadata": {},
   "outputs": [],
   "source": [
    "import numpy as np\n",
    "import os\n",
    "import cv2\n",
    "import matplotlib.pyplot as plt\n",
    "import pandas as pd\n",
    "import pickle\n",
    "import tensorflow as tf\n",
    "\n",
    "#Allow GPU memory allocation to grow - CUDNN wasn't working otherwise\n",
    "gpu_devices = tf.config.experimental.list_physical_devices('GPU')\n",
    "for device in gpu_devices:\n",
    "    tf.config.experimental.set_memory_growth(device, True)\n",
    "\n",
    "from tqdm import tqdm\n",
    "from scipy.spatial.distance import hamming, cosine, euclidean\n",
    "\n",
    "%matplotlib inline"
   ]
  },
  {
   "cell_type": "markdown",
   "metadata": {},
   "source": [
    "### Step 1 Dataset utils and preprocessing"
   ]
  },
  {
   "cell_type": "code",
   "execution_count": 2,
   "metadata": {},
   "outputs": [],
   "source": [
    "def image_loader(image_path, image_size):\n",
    "    '''\n",
    "    Load an image from a disk.\n",
    "    \n",
    "    :param image_path: String, path to the image\n",
    "    :param image_size: tuple, size of an output image Example: image_size=(32, 32)\n",
    "    '''\n",
    "    \n",
    "    image = cv2.imread(image_path)\n",
    "    image = cv2.cvtColor(image, cv2.COLOR_BGR2RGB)\n",
    "    image = cv2.resize(image, image_size, cv2.INTER_CUBIC)\n",
    "    return image"
   ]
  },
  {
   "cell_type": "code",
   "execution_count": 3,
   "metadata": {},
   "outputs": [],
   "source": [
    "def dataset_preprocessing(dataset_path, labels_file_path, image_size, image_paths_pickle, dtype=None):\n",
    "    '''\n",
    "    Loads images and labels from dataset folder.\n",
    "    \n",
    "    :param dataset_path: String, path to the train/test dataset folder\n",
    "    :param labels_file_path: String, path to the .txt file where classes names are written\n",
    "    :param image_size: tuple, single image size\n",
    "    :param image_paths_pickle: String, name of a pickle file where all image paths will be saved\n",
    "    '''\n",
    "    \n",
    "    with open(labels_file_path, 'r') as f:\n",
    "        classes = f.read().split('\\n')[:-1]\n",
    "        \n",
    "    \n",
    "    images = []\n",
    "    labels = []\n",
    "    image_paths = []\n",
    "    \n",
    "    for image_name in os.listdir(dataset_path):\n",
    "        try:\n",
    "            image_path = os.path.join(dataset_path, image_name)\n",
    "            images.append(image_loader(image_path, image_size))\n",
    "            image_paths.append(image_path)\n",
    "            for idx in range(len(classes)):\n",
    "                if classes[idx] in image_name: #Example: 0_frog.png\n",
    "                    labels.append(idx)\n",
    "        except:\n",
    "            pass\n",
    "    \n",
    "    with open(image_paths_pickle + \".pickle\", 'wb') as f:\n",
    "        pickle.dump(image_paths, f)\n",
    "    \n",
    "    assert len(images) == len(labels)\n",
    "    return np.array(images, dtype=dtype), np.array(labels, dtype=dtype)"
   ]
  },
  {
   "cell_type": "code",
   "execution_count": 4,
   "metadata": {},
   "outputs": [],
   "source": [
    "images, labels = dataset_preprocessing(\"dataset/train/\", \"dataset/labels.txt\", (32, 32), \"training_images_pickle\", \"float32\")"
   ]
  },
  {
   "cell_type": "code",
   "execution_count": 5,
   "metadata": {},
   "outputs": [
    {
     "data": {
      "text/plain": [
       "(3, 32, 32, 3)"
      ]
     },
     "execution_count": 5,
     "metadata": {},
     "output_type": "execute_result"
    }
   ],
   "source": [
    "images.shape"
   ]
  },
  {
   "cell_type": "markdown",
   "metadata": {},
   "source": [
    "### Step 2 Utils function"
   ]
  },
  {
   "cell_type": "markdown",
   "metadata": {},
   "source": [
    "![](helper_images/cosine.png)\n",
    "![](helper_images/cosine_formula.png)"
   ]
  },
  {
   "cell_type": "code",
   "execution_count": 5,
   "metadata": {},
   "outputs": [],
   "source": [
    "def cosine_distance(training_set_vectors, query_vector, top_n=50):\n",
    "    '''\n",
    "    Calculates cosine distances between query image (vector) and all training set images (vectors).\n",
    "    \n",
    "    :param training_set_vectors: numpy Matrix, vectors for all images in the training set\n",
    "    :param query_vector: numpy vector, query image (new image) vector\n",
    "    :param top_n: integer, number of closest images to return\n",
    "    '''\n",
    "    \n",
    "    distances = []\n",
    "    \n",
    "    for i in range(len(training_set_vectors)): #For Cifar 10 -> 50k images\n",
    "        distances.append(cosine(training_set_vectors[i], query_vector[0]))\n",
    "        \n",
    "    return np.argsort(distances)[:top_n]"
   ]
  },
  {
   "cell_type": "markdown",
   "metadata": {},
   "source": [
    "![](helper_images/hamming.png)"
   ]
  },
  {
   "cell_type": "code",
   "execution_count": 6,
   "metadata": {},
   "outputs": [],
   "source": [
    "def hamming_distance(training_set_vectors, query_vector, top_n=50):\n",
    "    '''\n",
    "    Calculates hamming distances between query image (vector) and all training set images (vectors).\n",
    "    \n",
    "    :param training_set_vectors: numpy Matrix, vectors for all images in the training set\n",
    "    :param query_vector: numpy vector, query image (new image) vector\n",
    "    :param top_n: Integer, number of closest images to return\n",
    "    '''\n",
    "     \n",
    "    distances = []\n",
    "    \n",
    "    for i in range(len(training_set_vectors)): #For Cifar 10 -> 50k images\n",
    "        distances.append(hamming(training_set_vectors[i], query_vector[0]))\n",
    "        \n",
    "    return np.argsort(distances)[:top_n]   "
   ]
  },
  {
   "cell_type": "code",
   "execution_count": 7,
   "metadata": {},
   "outputs": [],
   "source": [
    "def sparse_accuracy(true_labels, predicted_labels):\n",
    "    '''\n",
    "    Calculates accuracy of a model based on softmax outputs.\n",
    "    \n",
    "    :param true_labels: numpy array, real labels of each sample. Example: [1, 2, 1, 0, 0]\n",
    "    :param predicted_labels: numpy matrix, softmax probabilities. Example [[0.2, 0.1, 0.7], [0.9, 0.05, 0.05]]\n",
    "    '''\n",
    "    \n",
    "    assert len(true_labels) == len(predicted_labels)\n",
    "    \n",
    "    correct = 0\n",
    "    \n",
    "    for i in range(len(true_labels)):\n",
    "        \n",
    "        if np.argmax(predicted_labels[i]) == true_labels[i]:\n",
    "            correct += 1\n",
    "            \n",
    "    return correct / len(true_labels)"
   ]
  },
  {
   "cell_type": "markdown",
   "metadata": {},
   "source": [
    "### Step 3 Model utils"
   ]
  },
  {
   "cell_type": "code",
   "execution_count": 8,
   "metadata": {},
   "outputs": [],
   "source": [
    "class ConvBlock(tf.keras.layers.Layer):\n",
    "    \n",
    "    def __init__(self, number_of_filters, kernel_size, strides=(1, 1),\n",
    "                 padding='SAME', activation=tf.nn.relu,\n",
    "                 max_pool=True, batch_norm=True):\n",
    "        '''\n",
    "        Defines convolutional block layer.\n",
    "\n",
    "        :param number_of_filters: integer, number of conv filters\n",
    "        :param kernel_size: tuple, size of conv layer kernel\n",
    "        :param padding: string, type of padding technique: SAME or VALID\n",
    "        :param activation: tf.object, activation function used on the layer\n",
    "        :param max_pool: boolean, if true the conv block will use max_pool\n",
    "        :param batch_norm: boolean, if true the conv block will use batch normalization\n",
    "        '''\n",
    "        super(ConvBlock, self).__init__()\n",
    "        \n",
    "        self._conv_layer = tf.keras.layers.Conv2D(filters=number_of_filters,\n",
    "                                                  kernel_size=kernel_size,\n",
    "                                                  strides=strides,\n",
    "                                                  padding=padding,\n",
    "                                                  activation=activation)\n",
    "        \n",
    "        self._max_pool = max_pool\n",
    "        if max_pool:\n",
    "            self._mp_layer = tf.keras.layers.MaxPool2D(pool_size=(2, 2),\n",
    "                                                       strides=(2, 2),\n",
    "                                                       padding='SAME')\n",
    "        \n",
    "        self._batch_norm = batch_norm\n",
    "        if batch_norm:\n",
    "            self._bn_layer = tf.keras.layers.BatchNormalization()\n",
    "            \n",
    "            \n",
    "    def call(self, inputs, training):\n",
    "        \n",
    "        conv_features = x = self._conv_layer(inputs)\n",
    "        if self._max_pool:\n",
    "            x = self._mp_layer(x)\n",
    "        if self._batch_norm:\n",
    "            x = self._bn_layer(x, training)\n",
    "        return x, conv_features\n"
   ]
  },
  {
   "cell_type": "code",
   "execution_count": 9,
   "metadata": {},
   "outputs": [],
   "source": [
    "class DenseBlock(tf.keras.layers.Layer):\n",
    "    \n",
    "    def __init__(self, units, activation=tf.nn.relu,\n",
    "                 dropout_rate=None, batch_norm=True):\n",
    "        '''\n",
    "        Defines dense block layer.\n",
    "\n",
    "        :param units: integer, number of neurons/units for a dense layer\n",
    "        :param activation: tf.object, activation function used on the layer\n",
    "        :param dropout_rate: dropout rate used in this dense block\n",
    "        :param batch_norm: boolean, if true the conv block will use batch normalization\n",
    "        '''\n",
    "        super(DenseBlock, self).__init__()\n",
    "        \n",
    "        self._dense_layer = tf.keras.layers.Dense(units, activation=activation)\n",
    "        \n",
    "        self._dropout_rate = dropout_rate\n",
    "        if dropout_rate is not None:\n",
    "            self._dr_layer = tf.keras.layers.Dropout(rate=dropout_rate)\n",
    "        \n",
    "        self._batch_norm = batch_norm\n",
    "        if batch_norm:\n",
    "            self._bn_layer = tf.keras.layers.BatchNormalization()\n",
    "            \n",
    "    \n",
    "    def call(self, inputs, training):\n",
    "        \n",
    "        dense_features = x = self._dense_layer(inputs)\n",
    "        if self._dropout_rate is not None:\n",
    "            x = self._dr_layer(x, training)\n",
    "        if self._batch_norm:\n",
    "            x = self._bn_layer(x, training)\n",
    "        return x, dense_features\n"
   ]
  },
  {
   "cell_type": "markdown",
   "metadata": {},
   "source": [
    "![](helper_images/conv_model.png)\n",
    "Image from: *https://github.com/deep-diver/CIFAR10-img-classification-tensorflow*"
   ]
  },
  {
   "cell_type": "code",
   "execution_count": 10,
   "metadata": {},
   "outputs": [],
   "source": [
    "class ImageSearchModel(tf.keras.Model):\n",
    "    \n",
    "    def __init__(self, dropout_rate, image_size, number_of_classes=10):\n",
    "        '''\n",
    "        Defines CNN model.\n",
    "        \n",
    "        :param dropout_rate: dropout_rate\n",
    "        :param learning_rate: learning_rate\n",
    "        :param image_size: tuple, (height, width) of an image\n",
    "        :param number_of_classes: integer, number of classes in a dataset.\n",
    "        '''        \n",
    "        super(ImageSearchModel, self).__init__()\n",
    "        \n",
    "        self._bn_layer = tf.keras.layers.BatchNormalization()\n",
    "        \n",
    "        self._conv_block_1 = ConvBlock(number_of_filters=64,\n",
    "                                       kernel_size=(3, 3),\n",
    "                                       strides=(1, 1),\n",
    "                                       padding='SAME',\n",
    "                                       activation=tf.nn.relu,\n",
    "                                       max_pool=True,\n",
    "                                       batch_norm=True)\n",
    "        \n",
    "        self._conv_block_2 = ConvBlock(number_of_filters=128, \n",
    "                                       kernel_size=(3, 3), \n",
    "                                       strides=(1, 1), \n",
    "                                       padding='SAME', \n",
    "                                       activation=tf.nn.relu, \n",
    "                                       max_pool=True, \n",
    "                                       batch_norm=True)\n",
    "        \n",
    "        self._conv_block_3 = ConvBlock(number_of_filters=256, \n",
    "                                       kernel_size=(5, 5), \n",
    "                                       strides=(1, 1), \n",
    "                                       padding='SAME', \n",
    "                                       activation=tf.nn.relu, \n",
    "                                       max_pool=True, \n",
    "                                       batch_norm=True)\n",
    "        \n",
    "        self._conv_block_4 = ConvBlock(number_of_filters=512, \n",
    "                                       kernel_size=(5, 5), \n",
    "                                       strides=(1, 1), \n",
    "                                       padding='SAME', \n",
    "                                       activation=tf.nn.relu, \n",
    "                                       max_pool=True, \n",
    "                                       batch_norm=True)\n",
    "        \n",
    "        self._flatten_layer = tf.keras.layers.Flatten()\n",
    "        \n",
    "        self._dense_block_1 = DenseBlock(units=128, \n",
    "                                         activation=tf.nn.relu, \n",
    "                                         dropout_rate=dropout_rate, \n",
    "                                         batch_norm=True)\n",
    "        \n",
    "        self._dense_block_2 = DenseBlock(units=256, \n",
    "                                         activation=tf.nn.relu, \n",
    "                                         dropout_rate=dropout_rate, \n",
    "                                         batch_norm=True)\n",
    "        \n",
    "        self._dense_block_3 = DenseBlock(units=512, \n",
    "                                         activation=tf.nn.relu, \n",
    "                                         dropout_rate=dropout_rate, \n",
    "                                         batch_norm=True)\n",
    "        \n",
    "        self._dense_block_4 = DenseBlock(units=1024, \n",
    "                                         activation=tf.nn.relu, \n",
    "                                         dropout_rate=dropout_rate, \n",
    "                                         batch_norm=True)\n",
    "        \n",
    "        self._final_dense = tf.keras.layers.Dense(units=number_of_classes,\n",
    "                                                  activation=None)\n",
    "        \n",
    "        self._final_softmax = tf.keras.layers.Softmax()\n",
    "        \n",
    "        \n",
    "    def call(self, inputs, training):\n",
    "        \n",
    "        x = self._bn_layer(inputs, training)\n",
    "        x, conv_1_features = self._conv_block_1(x, training)\n",
    "        x, conv_2_features = self._conv_block_2(x, training)\n",
    "        x, conv_3_features = self._conv_block_3(x, training)\n",
    "        x, conv_4_features = self._conv_block_4(x, training)\n",
    "        x = self._flatten_layer(x)\n",
    "        x, dense_1_features = self._dense_block_1(x, training)\n",
    "        x, dense_2_features = self._dense_block_2(x, training)\n",
    "        x, dense_3_features = self._dense_block_3(x, training)\n",
    "        x, dense_4_features = self._dense_block_4(x, training)\n",
    "        x = self._final_dense(x)\n",
    "        x = self._final_softmax(x)\n",
    "        return x, dense_2_features, dense_4_features\n"
   ]
  },
  {
   "cell_type": "code",
   "execution_count": 12,
   "metadata": {
    "scrolled": true
   },
   "outputs": [],
   "source": [
    "model = ImageSearchModel(0.2, (32, 32), 10)"
   ]
  },
  {
   "cell_type": "markdown",
   "metadata": {},
   "source": [
    "### Step 4 Training loop - training the model"
   ]
  },
  {
   "cell_type": "code",
   "execution_count": 11,
   "metadata": {},
   "outputs": [],
   "source": [
    "def train(model, epochs, batch_size, learning_rate,\n",
    "          data, save_dir, saver_delta=0.15, patience=2):\n",
    "    '''\n",
    "    The core training function, use this function to train a model.\n",
    "\n",
    "    :param model: CNN model\n",
    "    :param epochs: integer, number of epochs\n",
    "    :param drop_rate: float, dropout_rate\n",
    "    :param batch_size: integer, number of samples to put through the model at once\n",
    "    :param data: tuple, train-test data Example(X_train, y_train, X_valid, y_valid)\n",
    "    :param save_dir: string, path to a folder where model checkpoints will be saved\n",
    "    :param saver_delta: float, used to prevent overfitted model to be saved\n",
    "    :param patience: int, used for early stopping, number of consecutive epochs without improvement\n",
    "    '''\n",
    "\n",
    "    X_train, y_train, X_valid, y_valid = data\n",
    "    \n",
    "    #Call dummy predict to instantiate input shapes and execution graph\n",
    "    model.predict(x=np.random.randn(1, 32, 32, 3).astype('float32'))\n",
    "\n",
    "    best_test_accuracy = 0.0\n",
    "\n",
    "    optimizer = tf.keras.optimizers.Adam(learning_rate=learning_rate)\n",
    "    loss_fn = tf.keras.losses.SparseCategoricalCrossentropy()\n",
    "\n",
    "    epoch_val_accuracy = []\n",
    "    counter = 0\n",
    "\n",
    "    for epoch in range(epochs):\n",
    "\n",
    "        train_accuracy = []\n",
    "        train_loss = []\n",
    "\n",
    "        for ii in tqdm(range(len(X_train) // batch_size)):\n",
    "            start_id = ii * batch_size\n",
    "            end_id = start_id + batch_size\n",
    "\n",
    "            X_batch = X_train[start_id:end_id]\n",
    "            y_batch = y_train[start_id:end_id]\n",
    "\n",
    "            with tf.GradientTape() as tape:\n",
    "                class_probs, _, _ = model(X_batch, training=True)\n",
    "                loss_value = loss_fn(y_batch, class_probs)\n",
    "\n",
    "            grads = tape.gradient(loss_value, model.trainable_weights)\n",
    "            optimizer.apply_gradients(zip(grads, model.trainable_weights))\n",
    "\n",
    "            train_accuracy.append(sparse_accuracy(y_batch, class_probs))\n",
    "            train_loss.append(loss_value)\n",
    "\n",
    "        test_accuracy = []\n",
    "\n",
    "        for ii in tqdm(range(len(X_valid) // batch_size)):\n",
    "            start_id = ii*batch_size\n",
    "            end_id = start_id + batch_size\n",
    "\n",
    "            X_valid_batch = X_valid[start_id:end_id]\n",
    "            y_valid_batch = y_valid[start_id:end_id]\n",
    "\n",
    "            test_class_probs, _, _ = model(X_valid_batch, training=False)\n",
    "\n",
    "            test_accuracy.append(sparse_accuracy(y_valid_batch, test_class_probs))\n",
    "\n",
    "        print(f\"Epoch: {epoch+1}/{epochs}\",\n",
    "              f\" | Training accuracy: {np.mean(train_accuracy)}\"\n",
    "              f\" | Training loss: {np.mean(train_loss)}\")\n",
    "\n",
    "        mean_test_acc = np.mean(test_accuracy)\n",
    "        print(f\"Test accuracy: {mean_test_acc}\")\n",
    "\n",
    "        epoch_val_accuracy.append(mean_test_acc)\n",
    "\n",
    "        if mean_test_acc <= best_test_accuracy:\n",
    "            counter = counter + 1\n",
    "            if counter >= patience:\n",
    "                print(\"Early stopping. Exiting training.\")\n",
    "                return\n",
    "        else:\n",
    "            counter = 0\n",
    "            best_test_accuracy = mean_test_acc\n",
    "\n",
    "        if np.mean(train_accuracy) > np.mean(test_accuracy):  # to prevent underfitting\n",
    "            if np.abs(np.mean(train_accuracy) - np.mean(test_accuracy)) <= saver_delta:  # to prevent overfit\n",
    "                if np.mean(test_accuracy) >= best_test_accuracy:\n",
    "                    best_test_accuracy = np.mean(test_accuracy)\n",
    "                    model.save(os.path.join(save_dir, f\"model_epoch_{epoch+1}\"), save_format='tf')"
   ]
  },
  {
   "cell_type": "markdown",
   "metadata": {},
   "source": [
    "#### Setting hyperparameters and training the model"
   ]
  },
  {
   "cell_type": "code",
   "execution_count": 12,
   "metadata": {},
   "outputs": [],
   "source": [
    "epochs = 20\n",
    "batch_size = 128\n",
    "learning_rate = 0.001\n",
    "dropout_rate = 0.6\n",
    "image_size = (32, 32)"
   ]
  },
  {
   "cell_type": "code",
   "execution_count": 13,
   "metadata": {},
   "outputs": [],
   "source": [
    "X_train, y_train = dataset_preprocessing('dataset/train/', 'dataset/labels.txt', image_size=image_size, image_paths_pickle=\"train_images_pickle\", dtype='float32')"
   ]
  },
  {
   "cell_type": "code",
   "execution_count": 14,
   "metadata": {},
   "outputs": [
    {
     "data": {
      "text/plain": [
       "(50000, 32, 32, 3)"
      ]
     },
     "execution_count": 14,
     "metadata": {},
     "output_type": "execute_result"
    }
   ],
   "source": [
    "X_train.shape"
   ]
  },
  {
   "cell_type": "code",
   "execution_count": 15,
   "metadata": {},
   "outputs": [],
   "source": [
    "X_valid, y_valid = dataset_preprocessing('dataset/test/', 'dataset/labels.txt', image_size=image_size, image_paths_pickle=\"test_images_pickle\", dtype='float32')"
   ]
  },
  {
   "cell_type": "code",
   "execution_count": 16,
   "metadata": {},
   "outputs": [
    {
     "data": {
      "text/plain": [
       "(10000, 32, 32, 3)"
      ]
     },
     "execution_count": 16,
     "metadata": {},
     "output_type": "execute_result"
    }
   ],
   "source": [
    "X_valid.shape"
   ]
  },
  {
   "cell_type": "code",
   "execution_count": 17,
   "metadata": {},
   "outputs": [],
   "source": [
    "#define the model\n",
    "model = ImageSearchModel(dropout_rate, image_size)"
   ]
  },
  {
   "cell_type": "code",
   "execution_count": 18,
   "metadata": {},
   "outputs": [],
   "source": [
    "data = (X_train, y_train, X_valid, y_valid)"
   ]
  },
  {
   "cell_type": "code",
   "execution_count": 19,
   "metadata": {},
   "outputs": [
    {
     "data": {
      "text/plain": [
       "array([6., 1., 6., ..., 5., 1., 3.], dtype=float32)"
      ]
     },
     "execution_count": 19,
     "metadata": {},
     "output_type": "execute_result"
    }
   ],
   "source": [
    "y_train"
   ]
  },
  {
   "cell_type": "code",
   "execution_count": 20,
   "metadata": {
    "scrolled": true
   },
   "outputs": [
    {
     "name": "stdout",
     "output_type": "stream",
     "text": [
      "WARNING:tensorflow:Large dropout rate: 0.6 (>0.5). In TensorFlow 2.x, dropout() uses dropout rate instead of keep_prob. Please ensure that this is intended.\n",
      "WARNING:tensorflow:Large dropout rate: 0.6 (>0.5). In TensorFlow 2.x, dropout() uses dropout rate instead of keep_prob. Please ensure that this is intended.\n",
      "WARNING:tensorflow:Large dropout rate: 0.6 (>0.5). In TensorFlow 2.x, dropout() uses dropout rate instead of keep_prob. Please ensure that this is intended.\n",
      "WARNING:tensorflow:Large dropout rate: 0.6 (>0.5). In TensorFlow 2.x, dropout() uses dropout rate instead of keep_prob. Please ensure that this is intended.\n"
     ]
    },
    {
     "name": "stderr",
     "output_type": "stream",
     "text": [
      "\r",
      "  0%|                                                                                          | 0/390 [00:00<?, ?it/s]"
     ]
    },
    {
     "name": "stdout",
     "output_type": "stream",
     "text": [
      "WARNING:tensorflow:Large dropout rate: 0.6 (>0.5). In TensorFlow 2.x, dropout() uses dropout rate instead of keep_prob. Please ensure that this is intended.\n"
     ]
    },
    {
     "name": "stderr",
     "output_type": "stream",
     "text": [
      "100%|████████████████████████████████████████████████████████████████████████████████| 390/390 [00:46<00:00,  8.39it/s]\n",
      "100%|██████████████████████████████████████████████████████████████████████████████████| 78/78 [00:04<00:00, 16.81it/s]\n",
      "  0%|▏                                                                                 | 1/390 [00:00<00:41,  9.37it/s]"
     ]
    },
    {
     "name": "stdout",
     "output_type": "stream",
     "text": [
      "Epoch: 1/20  | Training accuracy: 0.2721554487179487 | Training loss: 2.0468897819519043\n",
      "Test accuracy: 0.37289663461538464\n"
     ]
    },
    {
     "name": "stderr",
     "output_type": "stream",
     "text": [
      "100%|████████████████████████████████████████████████████████████████████████████████| 390/390 [00:46<00:00,  8.44it/s]\n",
      "100%|██████████████████████████████████████████████████████████████████████████████████| 78/78 [00:04<00:00, 16.59it/s]\n",
      "  0%|▏                                                                                 | 1/390 [00:00<00:48,  8.09it/s]"
     ]
    },
    {
     "name": "stdout",
     "output_type": "stream",
     "text": [
      "Epoch: 2/20  | Training accuracy: 0.46113782051282054 | Training loss: 1.4398822784423828\n",
      "Test accuracy: 0.5803285256410257\n"
     ]
    },
    {
     "name": "stderr",
     "output_type": "stream",
     "text": [
      "100%|████████████████████████████████████████████████████████████████████████████████| 390/390 [00:44<00:00,  8.70it/s]\n",
      "100%|██████████████████████████████████████████████████████████████████████████████████| 78/78 [00:04<00:00, 17.41it/s]\n",
      "  0%|▏                                                                                 | 1/390 [00:00<00:44,  8.72it/s]"
     ]
    },
    {
     "name": "stdout",
     "output_type": "stream",
     "text": [
      "Epoch: 3/20  | Training accuracy: 0.5940104166666667 | Training loss: 1.1487587690353394\n",
      "Test accuracy: 0.6720753205128205\n"
     ]
    },
    {
     "name": "stderr",
     "output_type": "stream",
     "text": [
      "100%|████████████████████████████████████████████████████████████████████████████████| 390/390 [00:44<00:00,  8.74it/s]\n",
      "100%|██████████████████████████████████████████████████████████████████████████████████| 78/78 [00:04<00:00, 17.68it/s]\n",
      "  0%|▏                                                                                 | 1/390 [00:00<00:44,  8.80it/s]"
     ]
    },
    {
     "name": "stdout",
     "output_type": "stream",
     "text": [
      "Epoch: 4/20  | Training accuracy: 0.6806690705128206 | Training loss: 0.9337558746337891\n",
      "Test accuracy: 0.7228565705128205\n"
     ]
    },
    {
     "name": "stderr",
     "output_type": "stream",
     "text": [
      "100%|████████████████████████████████████████████████████████████████████████████████| 390/390 [00:44<00:00,  8.70it/s]\n",
      "100%|██████████████████████████████████████████████████████████████████████████████████| 78/78 [00:04<00:00, 17.46it/s]\n",
      "  0%|▏                                                                                 | 1/390 [00:00<00:41,  9.28it/s]"
     ]
    },
    {
     "name": "stdout",
     "output_type": "stream",
     "text": [
      "Epoch: 5/20  | Training accuracy: 0.7436298076923077 | Training loss: 0.7674767374992371\n",
      "Test accuracy: 0.7497996794871795\n"
     ]
    },
    {
     "name": "stderr",
     "output_type": "stream",
     "text": [
      "100%|████████████████████████████████████████████████████████████████████████████████| 390/390 [00:44<00:00,  8.71it/s]\n",
      "100%|██████████████████████████████████████████████████████████████████████████████████| 78/78 [00:04<00:00, 16.93it/s]\n"
     ]
    },
    {
     "name": "stdout",
     "output_type": "stream",
     "text": [
      "Epoch: 6/20  | Training accuracy: 0.7963541666666667 | Training loss: 0.6303994059562683\n",
      "Test accuracy: 0.7738381410256411\n",
      "WARNING:tensorflow:From C:\\Users\\kypis\\Anaconda3\\envs\\tf-gpu\\lib\\site-packages\\tensorflow_core\\python\\ops\\resource_variable_ops.py:1781: calling BaseResourceVariable.__init__ (from tensorflow.python.ops.resource_variable_ops) with constraint is deprecated and will be removed in a future version.\n",
      "Instructions for updating:\n",
      "If using Keras pass *_constraint arguments to layers.\n",
      "INFO:tensorflow:Assets written to: saver\\model_epoch_6\\assets\n"
     ]
    },
    {
     "name": "stderr",
     "output_type": "stream",
     "text": [
      "100%|████████████████████████████████████████████████████████████████████████████████| 390/390 [00:46<00:00,  8.48it/s]\n",
      "100%|██████████████████████████████████████████████████████████████████████████████████| 78/78 [00:04<00:00, 16.98it/s]\n",
      "  0%|▏                                                                                 | 1/390 [00:00<00:45,  8.50it/s]"
     ]
    },
    {
     "name": "stdout",
     "output_type": "stream",
     "text": [
      "Epoch: 7/20  | Training accuracy: 0.8389423076923077 | Training loss: 0.5087384581565857\n",
      "Test accuracy: 0.7704326923076923\n"
     ]
    },
    {
     "name": "stderr",
     "output_type": "stream",
     "text": [
      "100%|████████████████████████████████████████████████████████████████████████████████| 390/390 [00:46<00:00,  8.47it/s]\n",
      "100%|██████████████████████████████████████████████████████████████████████████████████| 78/78 [00:04<00:00, 16.84it/s]\n"
     ]
    },
    {
     "name": "stdout",
     "output_type": "stream",
     "text": [
      "Epoch: 8/20  | Training accuracy: 0.8752804487179487 | Training loss: 0.40924111008644104\n",
      "Test accuracy: 0.7796474358974359\n",
      "INFO:tensorflow:Assets written to: saver\\model_epoch_8\\assets\n"
     ]
    },
    {
     "name": "stderr",
     "output_type": "stream",
     "text": [
      "100%|████████████████████████████████████████████████████████████████████████████████| 390/390 [00:46<00:00,  8.46it/s]\n",
      "100%|██████████████████████████████████████████████████████████████████████████████████| 78/78 [00:04<00:00, 16.80it/s]\n"
     ]
    },
    {
     "name": "stdout",
     "output_type": "stream",
     "text": [
      "Epoch: 9/20  | Training accuracy: 0.8985777243589743 | Training loss: 0.3389703929424286\n",
      "Test accuracy: 0.7807491987179487\n",
      "INFO:tensorflow:Assets written to: saver\\model_epoch_9\\assets\n"
     ]
    },
    {
     "name": "stderr",
     "output_type": "stream",
     "text": [
      "100%|████████████████████████████████████████████████████████████████████████████████| 390/390 [00:45<00:00,  8.50it/s]\n",
      "100%|██████████████████████████████████████████████████████████████████████████████████| 78/78 [00:04<00:00, 16.99it/s]\n",
      "  0%|▏                                                                                 | 1/390 [00:00<00:44,  8.80it/s]"
     ]
    },
    {
     "name": "stdout",
     "output_type": "stream",
     "text": [
      "Epoch: 10/20  | Training accuracy: 0.9153645833333334 | Training loss: 0.2814977467060089\n",
      "Test accuracy: 0.7774439102564102\n"
     ]
    },
    {
     "name": "stderr",
     "output_type": "stream",
     "text": [
      "100%|████████████████████████████████████████████████████████████████████████████████| 390/390 [00:45<00:00,  8.52it/s]\n",
      "100%|██████████████████████████████████████████████████████████████████████████████████| 78/78 [00:04<00:00, 16.98it/s]\n"
     ]
    },
    {
     "name": "stdout",
     "output_type": "stream",
     "text": [
      "Epoch: 11/20  | Training accuracy: 0.933974358974359 | Training loss: 0.22862611711025238\n",
      "Test accuracy: 0.7905649038461539\n",
      "INFO:tensorflow:Assets written to: saver\\model_epoch_11\\assets\n"
     ]
    },
    {
     "name": "stderr",
     "output_type": "stream",
     "text": [
      "100%|████████████████████████████████████████████████████████████████████████████████| 390/390 [00:46<00:00,  8.48it/s]\n",
      "100%|██████████████████████████████████████████████████████████████████████████████████| 78/78 [00:04<00:00, 16.81it/s]\n"
     ]
    },
    {
     "name": "stdout",
     "output_type": "stream",
     "text": [
      "Epoch: 12/20  | Training accuracy: 0.944511217948718 | Training loss: 0.19346916675567627\n",
      "Test accuracy: 0.7949719551282052\n",
      "INFO:tensorflow:Assets written to: saver\\model_epoch_12\\assets\n"
     ]
    },
    {
     "name": "stderr",
     "output_type": "stream",
     "text": [
      "100%|████████████████████████████████████████████████████████████████████████████████| 390/390 [00:45<00:00,  8.49it/s]\n",
      "100%|██████████████████████████████████████████████████████████████████████████████████| 78/78 [00:04<00:00, 16.96it/s]\n",
      "  0%|▏                                                                                 | 1/390 [00:00<00:46,  8.36it/s]"
     ]
    },
    {
     "name": "stdout",
     "output_type": "stream",
     "text": [
      "Epoch: 13/20  | Training accuracy: 0.9540264423076923 | Training loss: 0.1641598790884018\n",
      "Test accuracy: 0.7955729166666666\n"
     ]
    },
    {
     "name": "stderr",
     "output_type": "stream",
     "text": [
      "100%|████████████████████████████████████████████████████████████████████████████████| 390/390 [00:46<00:00,  8.45it/s]\n",
      "100%|██████████████████████████████████████████████████████████████████████████████████| 78/78 [00:04<00:00, 16.75it/s]\n",
      "  0%|▏                                                                                 | 1/390 [00:00<00:41,  9.37it/s]"
     ]
    },
    {
     "name": "stdout",
     "output_type": "stream",
     "text": [
      "Epoch: 14/20  | Training accuracy: 0.9596554487179487 | Training loss: 0.14326032996177673\n",
      "Test accuracy: 0.7958733974358975\n"
     ]
    },
    {
     "name": "stderr",
     "output_type": "stream",
     "text": [
      "100%|████████████████████████████████████████████████████████████████████████████████| 390/390 [00:46<00:00,  8.47it/s]\n",
      "100%|██████████████████████████████████████████████████████████████████████████████████| 78/78 [00:04<00:00, 16.90it/s]\n",
      "  0%|▏                                                                                 | 1/390 [00:00<00:44,  8.72it/s]"
     ]
    },
    {
     "name": "stdout",
     "output_type": "stream",
     "text": [
      "Epoch: 15/20  | Training accuracy: 0.9649238782051283 | Training loss: 0.12761877477169037\n",
      "Test accuracy: 0.7922676282051282\n"
     ]
    },
    {
     "name": "stderr",
     "output_type": "stream",
     "text": [
      "100%|████████████████████████████████████████████████████████████████████████████████| 390/390 [00:46<00:00,  8.46it/s]\n",
      "100%|██████████████████████████████████████████████████████████████████████████████████| 78/78 [00:04<00:00, 16.83it/s]\n",
      "  0%|▏                                                                                 | 1/390 [00:00<00:43,  8.95it/s]"
     ]
    },
    {
     "name": "stdout",
     "output_type": "stream",
     "text": [
      "Epoch: 16/20  | Training accuracy: 0.9687900641025641 | Training loss: 0.1148780807852745\n",
      "Test accuracy: 0.7964743589743589\n"
     ]
    },
    {
     "name": "stderr",
     "output_type": "stream",
     "text": [
      "100%|████████████████████████████████████████████████████████████████████████████████| 390/390 [00:46<00:00,  8.46it/s]\n",
      "100%|██████████████████████████████████████████████████████████████████████████████████| 78/78 [00:04<00:00, 16.81it/s]\n",
      "  0%|▏                                                                                 | 1/390 [00:00<00:45,  8.48it/s]"
     ]
    },
    {
     "name": "stdout",
     "output_type": "stream",
     "text": [
      "Epoch: 17/20  | Training accuracy: 0.9685697115384615 | Training loss: 0.11231790482997894\n",
      "Test accuracy: 0.7884615384615384\n"
     ]
    },
    {
     "name": "stderr",
     "output_type": "stream",
     "text": [
      "100%|████████████████████████████████████████████████████████████████████████████████| 390/390 [00:46<00:00,  8.47it/s]\n",
      "100%|██████████████████████████████████████████████████████████████████████████████████| 78/78 [00:04<00:00, 16.92it/s]\n",
      "  0%|▏                                                                                 | 1/390 [00:00<00:46,  8.36it/s]"
     ]
    },
    {
     "name": "stdout",
     "output_type": "stream",
     "text": [
      "Epoch: 18/20  | Training accuracy: 0.971474358974359 | Training loss: 0.10131780058145523\n",
      "Test accuracy: 0.8074919871794872\n"
     ]
    },
    {
     "name": "stderr",
     "output_type": "stream",
     "text": [
      "100%|████████████████████████████████████████████████████████████████████████████████| 390/390 [00:45<00:00,  8.48it/s]\n",
      "100%|██████████████████████████████████████████████████████████████████████████████████| 78/78 [00:04<00:00, 16.88it/s]\n",
      "  0%|▏                                                                                 | 1/390 [00:00<00:45,  8.64it/s]"
     ]
    },
    {
     "name": "stdout",
     "output_type": "stream",
     "text": [
      "Epoch: 19/20  | Training accuracy: 0.97421875 | Training loss: 0.0933130532503128\n",
      "Test accuracy: 0.7946714743589743\n"
     ]
    },
    {
     "name": "stderr",
     "output_type": "stream",
     "text": [
      "100%|████████████████████████████████████████████████████████████████████████████████| 390/390 [00:46<00:00,  8.48it/s]\n",
      "100%|██████████████████████████████████████████████████████████████████████████████████| 78/78 [00:04<00:00, 16.74it/s]\n"
     ]
    },
    {
     "name": "stdout",
     "output_type": "stream",
     "text": [
      "Epoch: 20/20  | Training accuracy: 0.975761217948718 | Training loss: 0.08956872671842575\n",
      "Test accuracy: 0.8047876602564102\n",
      "Early stopping. Exiting training.\n"
     ]
    }
   ],
   "source": [
    "train(model=model, epochs=epochs, batch_size=batch_size, learning_rate=learning_rate, data=data, save_dir='saver')"
   ]
  },
  {
   "cell_type": "code",
   "execution_count": 21,
   "metadata": {},
   "outputs": [
    {
     "name": "stdout",
     "output_type": "stream",
     "text": [
      "INFO:tensorflow:Assets written to: saver\\model_epoch_20\\assets\n"
     ]
    }
   ],
   "source": [
    "model.save(os.path.join(\"saver\", f\"model_epoch_20\"), save_format='tf')"
   ]
  },
  {
   "cell_type": "code",
   "execution_count": 22,
   "metadata": {},
   "outputs": [
    {
     "data": {
      "text/plain": [
       "[array([[5.0735329e-05, 1.2347364e-06, 5.0909212e-04, 9.9372864e-01,\n",
       "         8.8810315e-04, 2.4140109e-03, 6.5471599e-04, 1.4714400e-03,\n",
       "         2.4256279e-04, 3.9432791e-05]], dtype=float32),\n",
       " array([[0.        , 1.2689834 , 0.        , 0.        , 0.        ,\n",
       "         0.18958567, 0.5851941 , 0.7883833 , 0.        , 0.7920675 ,\n",
       "         1.359108  , 0.        , 0.7771679 , 0.        , 1.2147206 ,\n",
       "         0.        , 0.        , 0.        , 0.86484027, 0.        ,\n",
       "         0.30728742, 0.        , 1.0923647 , 0.        , 1.0203696 ,\n",
       "         1.5559981 , 0.        , 0.        , 0.        , 0.        ,\n",
       "         0.        , 0.        , 0.        , 0.        , 0.        ,\n",
       "         0.        , 0.5619669 , 0.        , 0.63363147, 0.        ,\n",
       "         0.04643454, 0.        , 0.        , 0.        , 0.        ,\n",
       "         0.        , 0.9859573 , 0.        , 0.        , 1.1700966 ,\n",
       "         0.02609832, 0.14387165, 0.        , 0.        , 0.        ,\n",
       "         0.        , 0.        , 0.23765686, 0.        , 0.0083376 ,\n",
       "         0.6712036 , 0.        , 0.        , 0.13600451, 0.        ,\n",
       "         0.5166081 , 0.        , 0.        , 1.5622456 , 0.        ,\n",
       "         0.        , 0.        , 0.        , 0.        , 0.        ,\n",
       "         0.        , 1.3020502 , 0.07883339, 0.46094805, 0.        ,\n",
       "         0.70516044, 0.02234122, 0.        , 0.        , 0.        ,\n",
       "         1.0009472 , 0.        , 0.09421869, 0.        , 1.2271721 ,\n",
       "         0.8659588 , 0.        , 0.34157366, 0.        , 0.        ,\n",
       "         0.        , 0.        , 0.5490574 , 0.        , 1.4480168 ,\n",
       "         0.        , 1.1296812 , 0.5800372 , 0.        , 0.3691663 ,\n",
       "         0.02714819, 0.86535096, 0.        , 0.1961396 , 0.        ,\n",
       "         0.        , 1.4505563 , 0.        , 0.        , 0.07499294,\n",
       "         0.5284899 , 0.        , 0.        , 0.07559235, 0.        ,\n",
       "         0.        , 0.        , 0.84991336, 0.08207595, 0.        ,\n",
       "         0.        , 0.        , 0.10975953, 0.7527564 , 0.        ,\n",
       "         0.        , 0.        , 0.        , 1.2553236 , 0.        ,\n",
       "         1.3830616 , 0.        , 0.        , 0.        , 0.        ,\n",
       "         0.        , 0.58311594, 0.        , 1.0731739 , 0.        ,\n",
       "         0.        , 0.28561512, 0.11970672, 0.        , 0.        ,\n",
       "         0.63427895, 0.2685688 , 0.        , 0.11649304, 0.        ,\n",
       "         0.        , 0.        , 0.31526646, 0.        , 0.        ,\n",
       "         0.        , 0.        , 0.        , 0.        , 0.        ,\n",
       "         0.        , 0.5730914 , 0.        , 0.        , 0.        ,\n",
       "         0.        , 0.        , 0.        , 0.        , 0.        ,\n",
       "         0.        , 0.        , 0.        , 0.        , 1.1168072 ,\n",
       "         0.        , 0.        , 0.2538908 , 0.        , 0.        ,\n",
       "         0.2597208 , 0.        , 0.51000744, 0.9689984 , 0.2449956 ,\n",
       "         0.        , 0.        , 0.7559912 , 0.        , 0.05610497,\n",
       "         0.        , 0.        , 0.        , 0.28778222, 0.15870143,\n",
       "         0.        , 0.9638558 , 0.        , 0.        , 0.        ,\n",
       "         0.6105341 , 0.        , 0.        , 0.        , 0.        ,\n",
       "         0.42326054, 0.73143506, 0.        , 0.26590607, 0.51123273,\n",
       "         0.        , 0.        , 0.69427234, 0.611275  , 0.        ,\n",
       "         0.        , 0.        , 1.1953877 , 0.683287  , 0.        ,\n",
       "         0.        , 0.        , 0.        , 0.        , 0.25180307,\n",
       "         0.46968433, 0.        , 0.        , 0.        , 0.        ,\n",
       "         0.        , 0.        , 0.8835961 , 0.08280987, 0.        ,\n",
       "         0.5138475 , 0.        , 0.7830223 , 0.        , 0.        ,\n",
       "         0.        , 0.4802275 , 0.        , 1.087022  , 0.        ,\n",
       "         0.        , 0.97304094, 0.19937149, 0.        , 0.        ,\n",
       "         0.        ]], dtype=float32),\n",
       " array([[0.        , 0.        , 1.4822031 , ..., 0.6697311 , 0.83355737,\n",
       "         0.        ]], dtype=float32)]"
      ]
     },
     "execution_count": 22,
     "metadata": {},
     "output_type": "execute_result"
    }
   ],
   "source": [
    "model.predict(x=np.ones((1, 32, 32, 3), dtype='float32'))"
   ]
  },
  {
   "cell_type": "code",
   "execution_count": 23,
   "metadata": {},
   "outputs": [
    {
     "data": {
      "text/plain": [
       "[array([[5.7916710e-05, 2.0297084e-05, 1.5975967e-03, 9.8677999e-01,\n",
       "         1.0441854e-03, 7.6417224e-03, 1.1246919e-03, 9.5066772e-04,\n",
       "         3.0122953e-04, 4.8173586e-04]], dtype=float32),\n",
       " array([[0.        , 1.151492  , 0.        , 0.13300875, 0.19688602,\n",
       "         0.        , 0.11548571, 0.773263  , 0.        , 1.2712694 ,\n",
       "         1.380685  , 0.        , 1.2340487 , 0.        , 1.3717381 ,\n",
       "         0.        , 0.        , 0.        , 0.14856327, 0.        ,\n",
       "         0.0639599 , 0.17192656, 1.4620658 , 0.        , 0.9692411 ,\n",
       "         1.4010521 , 0.        , 0.        , 0.        , 0.        ,\n",
       "         0.        , 0.        , 0.        , 0.        , 0.        ,\n",
       "         0.        , 0.29085734, 0.        , 0.76811105, 0.15199107,\n",
       "         0.        , 0.        , 0.        , 0.        , 0.        ,\n",
       "         0.        , 0.66126484, 0.        , 0.        , 1.3741542 ,\n",
       "         0.        , 0.        , 0.        , 0.        , 0.        ,\n",
       "         0.        , 0.        , 0.        , 0.        , 0.        ,\n",
       "         1.0421951 , 0.14524657, 0.        , 0.        , 0.        ,\n",
       "         0.19268572, 0.        , 0.        , 1.1350298 , 0.        ,\n",
       "         0.        , 0.        , 0.        , 0.        , 0.        ,\n",
       "         0.43789274, 1.2485406 , 0.        , 0.18859231, 0.        ,\n",
       "         1.075213  , 0.        , 0.        , 0.        , 0.        ,\n",
       "         0.96731967, 0.        , 0.02070125, 0.11453518, 1.1196663 ,\n",
       "         0.69649565, 0.15776247, 0.50715446, 0.2577699 , 0.        ,\n",
       "         0.5524325 , 0.        , 0.76195705, 0.        , 1.3004779 ,\n",
       "         0.        , 0.7296975 , 0.2919625 , 0.        , 0.6765675 ,\n",
       "         0.        , 1.039518  , 0.        , 0.07946463, 0.        ,\n",
       "         0.        , 1.37486   , 0.        , 0.        , 0.4693858 ,\n",
       "         0.81808615, 0.        , 0.        , 0.        , 0.08718312,\n",
       "         0.        , 0.        , 1.0505555 , 0.09974024, 0.        ,\n",
       "         0.        , 0.        , 0.13118504, 0.4463158 , 0.        ,\n",
       "         0.        , 0.        , 0.26193106, 1.5225396 , 0.        ,\n",
       "         1.1442522 , 0.        , 0.        , 0.        , 0.        ,\n",
       "         0.        , 0.68891823, 0.        , 1.0756108 , 0.        ,\n",
       "         0.        , 0.        , 0.        , 0.        , 0.        ,\n",
       "         0.55837065, 0.5739085 , 0.        , 0.        , 0.        ,\n",
       "         0.        , 0.        , 0.07322322, 0.        , 0.        ,\n",
       "         0.        , 0.        , 0.        , 0.        , 0.        ,\n",
       "         0.        , 0.8938017 , 0.        , 0.        , 0.        ,\n",
       "         0.        , 0.        , 0.        , 0.        , 0.        ,\n",
       "         0.        , 0.24664302, 0.        , 0.        , 1.4131297 ,\n",
       "         0.        , 0.        , 0.15117182, 0.02994021, 0.        ,\n",
       "         0.43136495, 0.        , 0.47453532, 1.042434  , 0.03945878,\n",
       "         0.        , 0.        , 0.        , 0.        , 0.07223317,\n",
       "         0.        , 0.        , 0.        , 0.3219003 , 0.10502383,\n",
       "         0.        , 1.2956945 , 0.        , 0.        , 0.        ,\n",
       "         0.36749738, 0.        , 0.        , 0.        , 0.        ,\n",
       "         0.9520291 , 1.0589069 , 0.        , 0.        , 0.73951393,\n",
       "         0.        , 0.        , 0.5955345 , 0.63019866, 0.        ,\n",
       "         0.        , 0.        , 1.0525848 , 0.54185265, 0.        ,\n",
       "         0.        , 0.23033969, 0.        , 0.        , 0.5172557 ,\n",
       "         0.02014995, 0.        , 0.        , 0.        , 0.        ,\n",
       "         0.05250365, 0.01856272, 0.44942504, 0.4412416 , 0.        ,\n",
       "         0.47410825, 0.        , 0.06687926, 0.        , 0.        ,\n",
       "         0.09994403, 0.50582486, 0.        , 1.2856565 , 0.        ,\n",
       "         0.        , 0.9880386 , 0.2111839 , 0.        , 0.        ,\n",
       "         0.00577488]], dtype=float32),\n",
       " array([[0.20787746, 0.        , 1.3317059 , ..., 0.4698311 , 0.        ,\n",
       "         0.        ]], dtype=float32)]"
      ]
     },
     "execution_count": 23,
     "metadata": {},
     "output_type": "execute_result"
    }
   ],
   "source": [
    "model = tf.keras.models.load_model(os.path.join(\"saver\", f\"model_epoch_12\"))\n",
    "model.predict(x=np.ones((1, 32, 32, 3), dtype='float32'))"
   ]
  },
  {
   "cell_type": "code",
   "execution_count": 24,
   "metadata": {},
   "outputs": [
    {
     "data": {
      "text/plain": [
       "[array([[5.0735329e-05, 1.2347364e-06, 5.0909212e-04, 9.9372864e-01,\n",
       "         8.8810315e-04, 2.4140109e-03, 6.5471599e-04, 1.4714400e-03,\n",
       "         2.4256279e-04, 3.9432791e-05]], dtype=float32),\n",
       " array([[0.        , 1.2689834 , 0.        , 0.        , 0.        ,\n",
       "         0.18958567, 0.5851941 , 0.7883833 , 0.        , 0.7920675 ,\n",
       "         1.359108  , 0.        , 0.7771679 , 0.        , 1.2147206 ,\n",
       "         0.        , 0.        , 0.        , 0.86484027, 0.        ,\n",
       "         0.30728742, 0.        , 1.0923647 , 0.        , 1.0203696 ,\n",
       "         1.5559981 , 0.        , 0.        , 0.        , 0.        ,\n",
       "         0.        , 0.        , 0.        , 0.        , 0.        ,\n",
       "         0.        , 0.5619669 , 0.        , 0.63363147, 0.        ,\n",
       "         0.04643454, 0.        , 0.        , 0.        , 0.        ,\n",
       "         0.        , 0.9859573 , 0.        , 0.        , 1.1700966 ,\n",
       "         0.02609832, 0.14387165, 0.        , 0.        , 0.        ,\n",
       "         0.        , 0.        , 0.23765686, 0.        , 0.0083376 ,\n",
       "         0.6712036 , 0.        , 0.        , 0.13600451, 0.        ,\n",
       "         0.5166081 , 0.        , 0.        , 1.5622456 , 0.        ,\n",
       "         0.        , 0.        , 0.        , 0.        , 0.        ,\n",
       "         0.        , 1.3020502 , 0.07883339, 0.46094805, 0.        ,\n",
       "         0.70516044, 0.02234122, 0.        , 0.        , 0.        ,\n",
       "         1.0009472 , 0.        , 0.09421869, 0.        , 1.2271721 ,\n",
       "         0.8659588 , 0.        , 0.34157366, 0.        , 0.        ,\n",
       "         0.        , 0.        , 0.5490574 , 0.        , 1.4480168 ,\n",
       "         0.        , 1.1296812 , 0.5800372 , 0.        , 0.3691663 ,\n",
       "         0.02714819, 0.86535096, 0.        , 0.1961396 , 0.        ,\n",
       "         0.        , 1.4505563 , 0.        , 0.        , 0.07499294,\n",
       "         0.5284899 , 0.        , 0.        , 0.07559235, 0.        ,\n",
       "         0.        , 0.        , 0.84991336, 0.08207595, 0.        ,\n",
       "         0.        , 0.        , 0.10975953, 0.7527564 , 0.        ,\n",
       "         0.        , 0.        , 0.        , 1.2553236 , 0.        ,\n",
       "         1.3830616 , 0.        , 0.        , 0.        , 0.        ,\n",
       "         0.        , 0.58311594, 0.        , 1.0731739 , 0.        ,\n",
       "         0.        , 0.28561512, 0.11970672, 0.        , 0.        ,\n",
       "         0.63427895, 0.2685688 , 0.        , 0.11649304, 0.        ,\n",
       "         0.        , 0.        , 0.31526646, 0.        , 0.        ,\n",
       "         0.        , 0.        , 0.        , 0.        , 0.        ,\n",
       "         0.        , 0.5730914 , 0.        , 0.        , 0.        ,\n",
       "         0.        , 0.        , 0.        , 0.        , 0.        ,\n",
       "         0.        , 0.        , 0.        , 0.        , 1.1168072 ,\n",
       "         0.        , 0.        , 0.2538908 , 0.        , 0.        ,\n",
       "         0.2597208 , 0.        , 0.51000744, 0.9689984 , 0.2449956 ,\n",
       "         0.        , 0.        , 0.7559912 , 0.        , 0.05610497,\n",
       "         0.        , 0.        , 0.        , 0.28778222, 0.15870143,\n",
       "         0.        , 0.9638558 , 0.        , 0.        , 0.        ,\n",
       "         0.6105341 , 0.        , 0.        , 0.        , 0.        ,\n",
       "         0.42326054, 0.73143506, 0.        , 0.26590607, 0.51123273,\n",
       "         0.        , 0.        , 0.69427234, 0.611275  , 0.        ,\n",
       "         0.        , 0.        , 1.1953877 , 0.683287  , 0.        ,\n",
       "         0.        , 0.        , 0.        , 0.        , 0.25180307,\n",
       "         0.46968433, 0.        , 0.        , 0.        , 0.        ,\n",
       "         0.        , 0.        , 0.8835961 , 0.08280987, 0.        ,\n",
       "         0.5138475 , 0.        , 0.7830223 , 0.        , 0.        ,\n",
       "         0.        , 0.4802275 , 0.        , 1.087022  , 0.        ,\n",
       "         0.        , 0.97304094, 0.19937149, 0.        , 0.        ,\n",
       "         0.        ]], dtype=float32),\n",
       " array([[0.        , 0.        , 1.4822031 , ..., 0.6697311 , 0.83355737,\n",
       "         0.        ]], dtype=float32)]"
      ]
     },
     "execution_count": 24,
     "metadata": {},
     "output_type": "execute_result"
    }
   ],
   "source": [
    "model = tf.keras.models.load_model(os.path.join(\"saver\", f\"model_epoch_20\"))\n",
    "model.predict(x=np.ones((1, 32, 32, 3), dtype='float32'))"
   ]
  },
  {
   "cell_type": "markdown",
   "metadata": {},
   "source": [
    "### Step 6 Create training set vectors | Define Inference function"
   ]
  },
  {
   "cell_type": "markdown",
   "metadata": {},
   "source": [
    "![](helper_images/conv_model_vectors.png)"
   ]
  },
  {
   "cell_type": "markdown",
   "metadata": {},
   "source": [
    "![](helper_images/hamming.png)"
   ]
  },
  {
   "cell_type": "code",
   "execution_count": 25,
   "metadata": {},
   "outputs": [],
   "source": [
    "def create_training_set_vectors_with_colors(model, \n",
    "                                            X_train, \n",
    "                                            y_train,\n",
    "                                            batch_size,\n",
    "                                            image_size, \n",
    "                                            distance='hamming'):\n",
    "    \n",
    "    '''\n",
    "    Creates training set vectors and saves them in a pickle file.\n",
    "    \n",
    "    :param model: CNN model\n",
    "    :param X_train: numpy array, loaded training set images\n",
    "    :param y_train: numpy array,loaded training set labels\n",
    "    :param batch_size: integer, number of samples to put trhough the model at once\n",
    "    :param checkpoint_path: string, path to the model checkpoint\n",
    "    :param image_size: tuple, single image (height, width)\n",
    "    :param distance: string, type of distance to be used, \n",
    "                             this parameter is used to choose a way how to prepare and save training set vectors\n",
    "    '''\n",
    "    \n",
    "    dense_2_features = []\n",
    "    dense_4_features = []\n",
    "    \n",
    "    ##########################################################################\n",
    "    ### Calculate color feature vectors for each image in the training set ###\n",
    "    color_features = []\n",
    "    for img in X_train:\n",
    "        channels = cv2.split(img)\n",
    "        features = []\n",
    "        for chan in channels:\n",
    "            hist = cv2.calcHist([chan], [0], None, [256], [0, 256])\n",
    "            features.append(hist)\n",
    "            \n",
    "        color_features.append(np.vstack(features).squeeze())\n",
    "    ##########################################################################\n",
    "    \n",
    "    #iterate through training set\n",
    "    for ii in tqdm(range(len(X_train) // batch_size)):\n",
    "        start_id = ii*batch_size\n",
    "        end_id = start_id + batch_size\n",
    "\n",
    "        X_batch = X_train[start_id:end_id]\n",
    "        \n",
    "        _, dense_2, dense_4 = model(X_batch, training=False)\n",
    "        \n",
    "        dense_2_features.append(dense_2)\n",
    "        dense_4_features.append(dense_4)\n",
    "        \n",
    "    dense_2_features = np.vstack(dense_2_features)\n",
    "    dense_4_features = np.vstack(dense_4_features)\n",
    "    #hamming distance - vectors processing\n",
    "    if distance == 'hamming':\n",
    "        dense_2_features = np.where(dense_2_features < 0.5, 0, 1) #binarize vectors\n",
    "        dense_4_features = np.where(dense_4_features < 0.5, 0, 1)\n",
    "        \n",
    "        training_vectors = np.hstack((dense_2_features, dense_4_features))\n",
    "        with open('hamming_train_vectors.pickle', 'wb') as f:\n",
    "            pickle.dump(training_vectors, f)\n",
    "            \n",
    "    #cosine distance - vectors processing\n",
    "    elif distance == 'cosine':\n",
    "        training_vectors = np.hstack((dense_2_features, dense_4_features))\n",
    "        training_vectors = np.hstack((training_vectors, color_features[:len(training_vectors)]))\n",
    "        with open('cosine_train_vectors.pickle', 'wb') as f:\n",
    "            pickle.dump(training_vectors, f)\n",
    "            \n",
    "    #########################################################################\n",
    "    ### Save training set color feature vectors to a separate pickle file ###\n",
    "    with open('color_vectors.pickle', 'wb') as f:\n",
    "        pickle.dump(color_features[:len(training_vectors)], f)\n",
    "    #########################################################################"
   ]
  },
  {
   "cell_type": "code",
   "execution_count": 26,
   "metadata": {},
   "outputs": [],
   "source": [
    "model = tf.keras.models.load_model(os.path.join('saver', 'model_epoch_20'))"
   ]
  },
  {
   "cell_type": "code",
   "execution_count": 27,
   "metadata": {
    "scrolled": false
   },
   "outputs": [
    {
     "name": "stderr",
     "output_type": "stream",
     "text": [
      "100%|███████████████████████████████████████████████████████████████████████████████| 390/390 [00:03<00:00, 114.68it/s]\n"
     ]
    }
   ],
   "source": [
    "create_training_set_vectors_with_colors(model, X_train, y_train, batch_size, image_size)"
   ]
  },
  {
   "cell_type": "code",
   "execution_count": 28,
   "metadata": {},
   "outputs": [],
   "source": [
    "def compare_color(color_vectors, \n",
    "                  uploaded_image_colors, \n",
    "                  ids):\n",
    "    '''\n",
    "    Comparing color vectors of closest images from the training set with a color vector of a uploaded image (query image).\n",
    "    \n",
    "    :param color_vectors: color features vectors of closest training set images to the uploaded image\n",
    "    :param uploaded_image_colors: color vector of the uploaded image\n",
    "    :param ids: indices of training images being closest to the uploaded image (output from a distance function) \n",
    "    '''\n",
    "    color_distances = []\n",
    "    \n",
    "    for i in range(len(color_vectors)):\n",
    "        color_distances.append(euclidean(color_vectors[i], uploaded_image_colors))\n",
    "        \n",
    "    #The 15 is just an random number that I have choosen, you can return as many as you need/want\n",
    "    return ids[np.argsort(color_distances)[:15]] "
   ]
  },
  {
   "cell_type": "code",
   "execution_count": 29,
   "metadata": {},
   "outputs": [],
   "source": [
    "def simple_inference(model,\n",
    "                     train_set_vectors, \n",
    "                     uploaded_image_path,\n",
    "                     image_size, \n",
    "                     distance='hamming'):\n",
    "    \n",
    "    '''\n",
    "    Doing simple inference for single uploaded image.\n",
    "    \n",
    "    :param model: CNN model\n",
    "    :param session: tf.Session, restored session\n",
    "    :param train_set_vectors: loaded training set vectors\n",
    "    :param uploaded_image_path: string, path to the uploaded image\n",
    "    :param image_size: tuple, single image (height, width)\n",
    "    :param dsitance: string, type of distance to be used, \n",
    "                             this parameter is used to choose a way how to prepare vectors\n",
    "    '''\n",
    "    \n",
    "    image = image_loader(uploaded_image_path, image_size)\n",
    "    channels = cv2.split(image)\n",
    "    features = []\n",
    "    \n",
    "    for chan in channels:\n",
    "        hist = cv2.calcHist([chan], [0], None, [256], [0, 256])\n",
    "        features.append(hist)\n",
    "\n",
    "    color_features = np.vstack(features).T\n",
    "    \n",
    "    _, dense_2_features, dense_4_features = model(image, training=False)\n",
    "    \n",
    "    closest_ids = None\n",
    "    if distance == 'hamming':\n",
    "        dense_2_features = np.where(dense_2_features < 0.5, 0, 1)\n",
    "        dense_4_features = np.where(dense_4_features < 0.5, 0, 1)\n",
    "        \n",
    "        uploaded_image_vector = np.hstack((dense_2_features, dense_4_features))\n",
    "        \n",
    "        closest_ids = hamming_distance(train_set_vectors, uploaded_image_vector)\n",
    "        \n",
    "    elif distance == 'cosine':\n",
    "        uploaded_image_vector = np.hstack((dense_2_features, dense_4_features))\n",
    "        \n",
    "        closest_ids = cosine_distance(train_set_vectors, uploaded_image_vector)\n",
    "        \n",
    "    return closest_ids"
   ]
  },
  {
   "cell_type": "code",
   "execution_count": 30,
   "metadata": {},
   "outputs": [],
   "source": [
    "def simple_inference_with_color_filters(model, \n",
    "                                         train_set_vectors, \n",
    "                                         uploaded_image_path,\n",
    "                                         color_vectors,\n",
    "                                         image_size, \n",
    "                                         distance='hamming'):\n",
    "    \n",
    "    '''\n",
    "    Doing simple inference for single uploaded image.\n",
    "    \n",
    "    :param model: CNN model\n",
    "    :param session: tf.Session, restored session\n",
    "    :param train_set_vectors: loaded training set vectors\n",
    "    :param uploaded_image_path: string, path to the uploaded image\n",
    "    :param color_vectors: loaded training set color features vectors\n",
    "    :param image_size: tuple, single image (height, width)\n",
    "    :param dsitance: string, type of distance to be used, \n",
    "                             this parameter is used to choose a way how to prepare vectors\n",
    "    '''\n",
    "    \n",
    "    image = image_loader(uploaded_image_path, image_size)\n",
    "    \n",
    "    ####################################################\n",
    "    ## Calculating color histogram of the query image ##\n",
    "    channels = cv2.split(image)\n",
    "    features = []\n",
    "    for chan in channels:\n",
    "        hist = cv2.calcHist([chan], [0], None, [256], [0, 256])\n",
    "        features.append(hist)\n",
    "\n",
    "    color_features = np.vstack(features).T\n",
    "    ####################################################\n",
    "    \n",
    "    img_input = np.expand_dims(image, axis=0).astype('float32')\n",
    "    _, dense_2_features, dense_4_features = model(img_input, training=False)\n",
    "    \n",
    "    closest_ids = None\n",
    "    if distance == 'hamming':\n",
    "        dense_2_features = np.where(dense_2_features < 0.5, 0, 1)\n",
    "        dense_4_features = np.where(dense_4_features < 0.5, 0, 1)\n",
    "        \n",
    "        uploaded_image_vector = np.hstack((dense_2_features, dense_4_features))\n",
    "        \n",
    "        closest_ids = hamming_distance(train_set_vectors, uploaded_image_vector)\n",
    "        \n",
    "        #Comparing color features between query image and closest images selected by the model\n",
    "        closest_ids = compare_color(np.array(color_vectors)[closest_ids], color_features, closest_ids)\n",
    "        \n",
    "    elif distance == 'cosine':\n",
    "        uploaded_image_vector = np.hstack((dense_2_features, dense_4_features))\n",
    "        \n",
    "        closest_ids = cosine_distance(train_set_vectors, uploaded_image_vector)\n",
    "        \n",
    "        #Comparing color features between query image and closest images selected by the model\n",
    "        closest_ids = compare_color(np.array(color_vectors)[closest_ids], color_features, closest_ids)\n",
    "        \n",
    "    return closest_ids"
   ]
  },
  {
   "cell_type": "markdown",
   "metadata": {},
   "source": [
    "### Pipeline test\n",
    "\n",
    "#### Define session and model"
   ]
  },
  {
   "cell_type": "code",
   "execution_count": 43,
   "metadata": {},
   "outputs": [],
   "source": []
  },
  {
   "cell_type": "markdown",
   "metadata": {},
   "source": [
    "#### Restore session"
   ]
  },
  {
   "cell_type": "code",
   "execution_count": 31,
   "metadata": {},
   "outputs": [],
   "source": []
  },
  {
   "cell_type": "markdown",
   "metadata": {},
   "source": [
    "#### Load training set image paths"
   ]
  },
  {
   "cell_type": "code",
   "execution_count": 31,
   "metadata": {},
   "outputs": [],
   "source": [
    "with open('train_images_pickle.pickle', 'rb') as f:\n",
    "    train_image_paths = pickle.load(f)"
   ]
  },
  {
   "cell_type": "code",
   "execution_count": 32,
   "metadata": {},
   "outputs": [
    {
     "data": {
      "text/plain": [
       "['dataset/train/0_frog.png',\n",
       " 'dataset/train/10000_automobile.png',\n",
       " 'dataset/train/10001_frog.png',\n",
       " 'dataset/train/10002_frog.png',\n",
       " 'dataset/train/10003_ship.png',\n",
       " 'dataset/train/10004_ship.png',\n",
       " 'dataset/train/10005_cat.png',\n",
       " 'dataset/train/10006_deer.png',\n",
       " 'dataset/train/10007_frog.png',\n",
       " 'dataset/train/10008_airplane.png']"
      ]
     },
     "execution_count": 32,
     "metadata": {},
     "output_type": "execute_result"
    }
   ],
   "source": [
    "train_image_paths[:10]"
   ]
  },
  {
   "cell_type": "markdown",
   "metadata": {},
   "source": [
    "#### Load trainig set vectors"
   ]
  },
  {
   "cell_type": "code",
   "execution_count": 33,
   "metadata": {},
   "outputs": [],
   "source": [
    "with open('hamming_train_vectors.pickle', 'rb') as f:\n",
    "    train_set_vectors = pickle.load(f)"
   ]
  },
  {
   "cell_type": "code",
   "execution_count": 34,
   "metadata": {},
   "outputs": [],
   "source": [
    "with open('color_vectors.pickle', 'rb') as f:\n",
    "    color_vectors = pickle.load(f)"
   ]
  },
  {
   "cell_type": "code",
   "execution_count": 35,
   "metadata": {},
   "outputs": [],
   "source": [
    "test_image = 'dataset/test/1052_airplane.png'"
   ]
  },
  {
   "cell_type": "markdown",
   "metadata": {},
   "source": [
    "#### Get closest images - ids"
   ]
  },
  {
   "cell_type": "code",
   "execution_count": 36,
   "metadata": {
    "scrolled": true
   },
   "outputs": [],
   "source": [
    "result_ids = simple_inference_with_color_filters(model, train_set_vectors, test_image, color_vectors, image_size, distance='hamming')"
   ]
  },
  {
   "cell_type": "markdown",
   "metadata": {},
   "source": [
    "### Show query image"
   ]
  },
  {
   "cell_type": "code",
   "execution_count": 37,
   "metadata": {},
   "outputs": [
    {
     "data": {
      "text/plain": [
       "<matplotlib.image.AxesImage at 0x26339c531c8>"
      ]
     },
     "execution_count": 37,
     "metadata": {},
     "output_type": "execute_result"
    },
    {
     "data": {
      "image/png": "[encoded data removed]",
      "text/plain": [
       "<Figure size 432x288 with 1 Axes>"
      ]
     },
     "metadata": {
      "needs_background": "light"
     },
     "output_type": "display_data"
    }
   ],
   "source": [
    "plt.imshow(image_loader(test_image, image_size))"
   ]
  },
  {
   "cell_type": "markdown",
   "metadata": {},
   "source": [
    "### Show result images"
   ]
  },
  {
   "cell_type": "code",
   "execution_count": 38,
   "metadata": {},
   "outputs": [
    {
     "data": {
      "image/png": "[encoded data removed]",
      "text/plain": [
       "<Figure size 1152x1152 with 14 Axes>"
      ]
     },
     "metadata": {
      "needs_background": "light"
     },
     "output_type": "display_data"
    }
   ],
   "source": [
    "w = 10\n",
    "h = 10\n",
    "fig = plt.figure(figsize=(16, 16))\n",
    "colums = 10\n",
    "rows = 5\n",
    "for i in range(1, colums*rows+1):\n",
    "    try:\n",
    "        image = image_loader(train_image_paths[result_ids[i]], image_size)\n",
    "        fig.add_subplot(rows, colums, i)\n",
    "        plt.imshow(image)\n",
    "    except:\n",
    "        pass\n",
    "plt.show()"
   ]
  },
  {
   "cell_type": "markdown",
   "metadata": {},
   "source": []
  },
  {
   "cell_type": "code",
   "execution_count": null,
   "metadata": {},
   "outputs": [],
   "source": []
  },
  {
   "cell_type": "code",
   "execution_count": null,
   "metadata": {},
   "outputs": [],
   "source": []
  },
  {
   "cell_type": "code",
   "execution_count": null,
   "metadata": {},
   "outputs": [],
   "source": []
  },
  {
   "cell_type": "code",
   "execution_count": null,
   "metadata": {},
   "outputs": [],
   "source": []
  },
  {
   "cell_type": "code",
   "execution_count": null,
   "metadata": {},
   "outputs": [],
   "source": []
  },
  {
   "cell_type": "code",
   "execution_count": null,
   "metadata": {},
   "outputs": [],
   "source": []
  },
  {
   "cell_type": "code",
   "execution_count": 31,
   "metadata": {},
   "outputs": [
    {
     "data": {
      "image/png": "[encoded data removed]",
      "text/plain": [
       "<Figure size 432x288 with 1 Axes>"
      ]
     },
     "metadata": {
      "needs_background": "light"
     },
     "output_type": "display_data"
    }
   ],
   "source": [
    "chans = cv2.split(X_train[0])\n",
    "features = []\n",
    "for chan in chans:\n",
    "    hist = cv2.calcHist([chan], [0], None, [256], [0, 256])\n",
    "    features.append(hist)\n",
    "    \n",
    "    plt.plot(hist)\n",
    "    plt.xlim([0, 256])"
   ]
  },
  {
   "cell_type": "code",
   "execution_count": null,
   "metadata": {},
   "outputs": [],
   "source": []
  }
 ],
 "metadata": {
  "kernelspec": {
   "display_name": "Python 3",
   "language": "python",
   "name": "python3"
  },
  "language_info": {
   "codemirror_mode": {
    "name": "ipython",
    "version": 3
   },
   "file_extension": ".py",
   "mimetype": "text/x-python",
   "name": "python",
   "nbconvert_exporter": "python",
   "pygments_lexer": "ipython3",
   "version": "3.7.3"
  }
 },
 "nbformat": 4,
 "nbformat_minor": 2
}
